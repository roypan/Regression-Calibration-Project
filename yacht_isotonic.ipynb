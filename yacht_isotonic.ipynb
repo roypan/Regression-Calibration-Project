{
 "cells": [
  {
   "cell_type": "code",
   "execution_count": 1,
   "metadata": {},
   "outputs": [],
   "source": [
    "import torch\n",
    "import numpy as np\n",
    "import uncertainty_toolbox as uct\n",
    "import uncertainty_toolbox.metrics as umetrics\n",
    "from uncertainty_toolbox.metrics_calibration import (\n",
    "    get_proportion_lists_vectorized,\n",
    ")\n",
    "import uncertainty_toolbox.viz as uviz\n",
    "from uncertainty_toolbox.recalibration import iso_recal\n",
    "\n",
    "from data import data_preprocess\n",
    "from evaluation import metrics\n",
    "from model import end2end, end2end_crps, isotonic"
   ]
  },
  {
   "cell_type": "code",
   "execution_count": 2,
   "metadata": {},
   "outputs": [],
   "source": [
    "x_train, y_train, x_test, y_test = data_preprocess.data_preprocess('yacht')"
   ]
  },
  {
   "cell_type": "code",
   "execution_count": 3,
   "metadata": {},
   "outputs": [],
   "source": [
    "y_mean = torch.mean(y_train)\n",
    "y_sd = torch.std(y_train)\n",
    "\n",
    "y_train = (y_train - y_mean) / y_sd"
   ]
  },
  {
   "cell_type": "code",
   "execution_count": 4,
   "metadata": {},
   "outputs": [],
   "source": [
    "x_eval = x_train[180:-1, ]\n",
    "y_eval = y_train[180:-1, ]\n",
    "x_train = x_train[0:180, ]\n",
    "y_train = y_train[0:180, ]"
   ]
  },
  {
   "cell_type": "code",
   "execution_count": 5,
   "metadata": {},
   "outputs": [
    {
     "name": "stdout",
     "output_type": "stream",
     "text": [
      "initial loss:  1.4081166982650757\n",
      "final loss:  -7.7617669105529785\n"
     ]
    }
   ],
   "source": [
    "nllk_model = isotonic.train_model_nllk(x_train, y_train, n_epoch = 2000, hidden_layers = [30, 30], learning_rate = 0.001, exp_decay = .998)"
   ]
  },
  {
   "cell_type": "code",
   "execution_count": 6,
   "metadata": {},
   "outputs": [],
   "source": [
    "isotonic_model = isotonic.train_isotonic_regression(nllk_model, x_eval, y_eval)"
   ]
  },
  {
   "cell_type": "code",
   "execution_count": 7,
   "metadata": {},
   "outputs": [
    {
     "data": {
      "text/plain": [
       "array([0.2708372 , 0.34660244, 0.38633305, 0.47393012, 0.48577747,\n",
       "       0.5009608 , 0.57231694, 0.63767225, 0.67035854], dtype=float32)"
      ]
     },
     "execution_count": 7,
     "metadata": {},
     "output_type": "execute_result"
    }
   ],
   "source": [
    "isotonic_model.transform(np.array([.1, .2, .3, .4, .5, .6, .7, .8, .9]))"
   ]
  },
  {
   "cell_type": "code",
   "execution_count": 8,
   "metadata": {},
   "outputs": [
    {
     "name": "stdout",
     "output_type": "stream",
     "text": [
      "End2end test MAPE:  0.3935814\n",
      "End2end test RMSE:  1.0768807\n",
      "End2end test NLLK:  9.40322\n",
      "End2end test CRPS:  tensor(0.5625)\n"
     ]
    },
    {
     "data": {
      "image/png": "[encoded data removed]",
      "text/plain": [
       "<Figure size 432x288 with 1 Axes>"
      ]
     },
     "metadata": {
      "needs_background": "light"
     },
     "output_type": "display_data"
    },
    {
     "name": "stdout",
     "output_type": "stream",
     "text": [
      "End2end test calibration error when step size is 0.001:  6.639311097992919\n",
      "End2end test calibration error when step size is 0.01:  0.6616520492494522\n",
      "End2end test calibration error when step size is 0.1:  0.05226007758475294\n"
     ]
    }
   ],
   "source": [
    "mean_pred, var_pred = nllk_model(x_test)\n",
    "mean_pred = mean_pred.detach().numpy() * y_sd.detach().numpy()+ y_mean.detach().numpy()\n",
    "var_pred = var_pred.detach().numpy() * torch.pow(y_sd, 2).detach().numpy()\n",
    "sd_pred = np.sqrt(var_pred)\n",
    "\n",
    "print('End2end test MAPE: ', metrics.mape(y_test.detach().numpy(), mean_pred))\n",
    "print('End2end test RMSE: ', metrics.rmse(y_test.detach().numpy(), mean_pred))\n",
    "print('End2end test NLLK: ', metrics.nllk(y_test.detach().numpy(), mean_pred, var_pred))\n",
    "print('End2end test CRPS: ', metrics.CRPSMetric(x = y_test.squeeze(dim = 1), loc = torch.tensor(mean_pred).squeeze(dim = 1), scale = torch.tensor(sd_pred).squeeze(dim = 1)).gaussian_crps().mean())\n",
    "\n",
    "pcdf = metrics.pcdf(mean_pred.squeeze(1), var_pred.squeeze(1), y_test.detach().numpy().squeeze(1))\n",
    "pcdf = isotonic_model.transform(pcdf)\n",
    "metrics.draw_pcdf(pcdf)\n",
    "print('End2end test calibration error when step size is 0.001: ', metrics.calibration_error(pcdf, step = 0.001))\n",
    "print('End2end test calibration error when step size is 0.01: ', metrics.calibration_error(pcdf, step = 0.01))\n",
    "print('End2end test calibration error when step size is 0.1: ', metrics.calibration_error(pcdf, step = 0.1))"
   ]
  },
  {
   "cell_type": "code",
   "execution_count": null,
   "metadata": {},
   "outputs": [],
   "source": []
  }
 ],
 "metadata": {
  "kernelspec": {
   "display_name": "Python 3",
   "language": "python",
   "name": "python3"
  },
  "language_info": {
   "codemirror_mode": {
    "name": "ipython",
    "version": 3
   },
   "file_extension": ".py",
   "mimetype": "text/x-python",
   "name": "python",
   "nbconvert_exporter": "python",
   "pygments_lexer": "ipython3",
   "version": "3.7.4"
  }
 },
 "nbformat": 4,
 "nbformat_minor": 2
}
