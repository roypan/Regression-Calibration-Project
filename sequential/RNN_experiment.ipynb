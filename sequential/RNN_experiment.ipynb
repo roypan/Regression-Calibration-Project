{
 "cells": [
  {
   "cell_type": "code",
   "execution_count": 9,
   "metadata": {},
   "outputs": [],
   "source": [
    "import os\n",
    "import numpy as np\n",
    "import pandas as pd\n",
    "import matplotlib.pyplot as plt\n",
    "import torch\n",
    "import torch.nn as nn\n",
    "import math\n",
    "\n",
    "from dataset import get_dataset\n",
    "from metrics import Metrics"
   ]
  },
  {
   "cell_type": "code",
   "execution_count": 2,
   "metadata": {},
   "outputs": [],
   "source": [
    "_, _, data_np = get_dataset(name=\"electricity\", window_len=1, cxt_len=1, pred_len=1)"
   ]
  },
  {
   "cell_type": "code",
   "execution_count": 3,
   "metadata": {},
   "outputs": [
    {
     "data": {
      "text/plain": [
       "[<matplotlib.lines.Line2D at 0x206ac631848>]"
      ]
     },
     "execution_count": 3,
     "metadata": {},
     "output_type": "execute_result"
    },
    {
     "data": {
      "image/png": "[encoded data removed]",
      "text/plain": [
       "<Figure size 432x288 with 1 Axes>"
      ]
     },
     "metadata": {
      "needs_background": "light"
     },
     "output_type": "display_data"
    }
   ],
   "source": [
    "plt.plot(data_np[0])"
   ]
  },
  {
   "cell_type": "code",
   "execution_count": 4,
   "metadata": {},
   "outputs": [],
   "source": [
    "pred_len = 200\n",
    "window_len = 500\n",
    "\n",
    "train_ds = torch.tensor(data_np[:, :-pred_len])\n",
    "test_ds = torch.tensor(data_np[:, -pred_len:])"
   ]
  },
  {
   "cell_type": "code",
   "execution_count": 5,
   "metadata": {},
   "outputs": [],
   "source": [
    "def create_inout_sequences(input_data, window_len, pred_len = 1):\n",
    "    L = len(input_data)\n",
    "    x = torch.empty([L-window_len, window_len ,1])\n",
    "    y = torch.empty([L-window_len ,1])\n",
    "    for i in range(L-window_len):\n",
    "        x[i, :, 0] = input_data[i:i+window_len]\n",
    "        y[i, 0] = input_data[i+window_len:i+window_len+pred_len]\n",
    "    return x, y"
   ]
  },
  {
   "cell_type": "code",
   "execution_count": 6,
   "metadata": {},
   "outputs": [],
   "source": [
    "class LSTM(nn.Module):\n",
    "    def __init__(self, num_outputs = 2, input_size = 1, hidden_size = 100, num_layers = 1):\n",
    "        super(LSTM, self).__init__()\n",
    "        \n",
    "        self.num_outputs = num_outputs\n",
    "        self.num_layers = num_layers\n",
    "        self.input_size = input_size\n",
    "        self.hidden_size = hidden_size\n",
    "        \n",
    "        self.lstm = nn.LSTM(input_size=input_size, hidden_size=hidden_size, num_layers=num_layers, batch_first=True)\n",
    "        \n",
    "        self.fc = nn.Linear(hidden_size, num_outputs)\n",
    "\n",
    "    def forward(self, x):\n",
    "        h_0 = torch.zeros(self.num_layers, x.shape[0], self.hidden_size)\n",
    "        c_0 = torch.zeros(self.num_layers, x.shape[0], self.hidden_size)\n",
    "        # Propagate input through LSTM\n",
    "        output, (h_out, _) = self.lstm(x, (h_0, c_0))\n",
    "        h_out = h_out.view(-1, self.hidden_size)\n",
    "        out = self.fc(h_out)\n",
    "        out[:, 1] = torch.log(1 + torch.exp(out[:, 1])) # variance\n",
    "        \n",
    "        return out"
   ]
  },
  {
   "cell_type": "code",
   "execution_count": 7,
   "metadata": {},
   "outputs": [],
   "source": [
    "def NLLloss(y, mean, var):\n",
    "    \"\"\" Negative log-likelihood loss function. \"\"\"\n",
    "    return (torch.log(var) + torch.pow(y - mean, 2)/var).sum()"
   ]
  },
  {
   "cell_type": "code",
   "execution_count": null,
   "metadata": {},
   "outputs": [
    {
     "name": "stdout",
     "output_type": "stream",
     "text": [
      "Epoch: 0, series: 0, loss: 4.36072\n",
      "Epoch: 0, series: 1, loss: 16.10914\n",
      "Epoch: 0, series: 2, loss: 0.13938\n",
      "Epoch: 0, series: 3, loss: 191.64491\n",
      "Epoch: 0, series: 4, loss: 53.16714\n",
      "Epoch: 0, series: 5, loss: 694.49451\n",
      "Epoch: 0, series: 6, loss: 0.23642\n",
      "Epoch: 0, series: 7, loss: 1796.05823\n",
      "Epoch: 0, series: 8, loss: 121.71937\n",
      "Epoch: 0, series: 9, loss: 110.18833\n",
      "Epoch: 0, series: 10, loss: 34.00537\n",
      "Epoch: 0, series: 11, loss: 132.35208\n",
      "Epoch: 0, series: 12, loss: 35.45966\n",
      "Epoch: 0, series: 13, loss: 31.41242\n",
      "Epoch: 0, series: 14, loss: 61.61059\n",
      "Epoch: 0, series: 15, loss: 1239.52332\n"
     ]
    }
   ],
   "source": [
    "num_epochs = 10\n",
    "learning_rate = 0.0001\n",
    "batch_size = 1000\n",
    "\n",
    "input_size = 1\n",
    "hidden_size = 100\n",
    "num_layers = 1\n",
    "num_outputs = 2\n",
    "\n",
    "lstm = LSTM(num_outputs, input_size, hidden_size, num_layers)\n",
    "\n",
    "optimizer = torch.optim.Adam(lstm.parameters(), lr=learning_rate)\n",
    "\n",
    "# Train the model\n",
    "for epoch in range(num_epochs):\n",
    "    for i in range(len(train_ds)):\n",
    "        optimizer.zero_grad()\n",
    "        loss = 0\n",
    "        train_x, train_y = create_inout_sequences(train_ds[i], window_len)\n",
    "        num_batch = math.ceil(train_x.shape[0] / batch_size)\n",
    "        for j in range(num_batch):\n",
    "            outputs = lstm(train_x[(i * batch_size) : ((i+1) * batch_size), :, :])\n",
    "            loss += NLLloss(train_y[(i * batch_size) : ((i+1) * batch_size), :], outputs[:, 0], outputs[:, 1])\n",
    "        loss /= train_x.shape[0]\n",
    "        loss.backward()\n",
    "        optimizer.step()\n",
    "        \n",
    "        print(\"Epoch: %d, series: %d, loss: %1.5f\" % (epoch, i, loss.item()))"
   ]
  },
  {
   "cell_type": "code",
   "execution_count": null,
   "metadata": {},
   "outputs": [],
   "source": []
  }
 ],
 "metadata": {
  "kernelspec": {
   "display_name": "Python 3",
   "language": "python",
   "name": "python3"
  },
  "language_info": {
   "codemirror_mode": {
    "name": "ipython",
    "version": 3
   },
   "file_extension": ".py",
   "mimetype": "text/x-python",
   "name": "python",
   "nbconvert_exporter": "python",
   "pygments_lexer": "ipython3",
   "version": "3.7.4"
  }
 },
 "nbformat": 4,
 "nbformat_minor": 2
}
