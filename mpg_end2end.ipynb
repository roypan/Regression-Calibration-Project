{
 "cells": [
  {
   "cell_type": "code",
   "execution_count": 1,
   "metadata": {},
   "outputs": [],
   "source": [
    "import torch\n",
    "import numpy as np\n",
    "\n",
    "from data import data_preprocess\n",
    "from evaluation import metrics\n",
    "from model import end2end, end2end_crps"
   ]
  },
  {
   "cell_type": "code",
   "execution_count": 2,
   "metadata": {},
   "outputs": [],
   "source": [
    "x_train, y_train, x_test, y_test = data_preprocess.data_preprocess('mpg')"
   ]
  },
  {
   "cell_type": "code",
   "execution_count": 3,
   "metadata": {},
   "outputs": [
    {
     "name": "stdout",
     "output_type": "stream",
     "text": [
      "initial loss:  847.603515625\n",
      "535 0.030022222222222207 tensor(2.7717, grad_fn=<MeanBackward0>) tensor(1.4396, grad_fn=<MeanBackward0>)\n",
      "536 0.031044444444444465 tensor(2.8134, grad_fn=<MeanBackward0>) tensor(1.4533, grad_fn=<MeanBackward0>)\n",
      "537 0.0708555555555555 tensor(2.8941, grad_fn=<MeanBackward0>) tensor(1.4816, grad_fn=<MeanBackward0>)\n",
      "538 0.07812222222222223 tensor(2.9804, grad_fn=<MeanBackward0>) tensor(1.5145, grad_fn=<MeanBackward0>)\n",
      "539 0.08569999999999994 tensor(2.9213, grad_fn=<MeanBackward0>) tensor(1.4979, grad_fn=<MeanBackward0>)\n",
      "540 0.045944444444444454 tensor(2.8372, grad_fn=<MeanBackward0>) tensor(1.4625, grad_fn=<MeanBackward0>)\n",
      "541 0.04065555555555552 tensor(2.7844, grad_fn=<MeanBackward0>) tensor(1.4388, grad_fn=<MeanBackward0>)\n",
      "601 0.04026666666666663 tensor(2.7234, grad_fn=<MeanBackward0>) tensor(1.4072, grad_fn=<MeanBackward0>)\n",
      "602 0.057788888888888924 tensor(2.8226, grad_fn=<MeanBackward0>) tensor(1.4379, grad_fn=<MeanBackward0>)\n",
      "603 0.13296666666666665 tensor(2.9781, grad_fn=<MeanBackward0>) tensor(1.5015, grad_fn=<MeanBackward0>)\n",
      "604 0.13303333333333336 tensor(2.9858, grad_fn=<MeanBackward0>) tensor(1.5041, grad_fn=<MeanBackward0>)\n",
      "605 0.09595555555555557 tensor(2.8374, grad_fn=<MeanBackward0>) tensor(1.4544, grad_fn=<MeanBackward0>)\n",
      "606 0.04404444444444447 tensor(2.7403, grad_fn=<MeanBackward0>) tensor(1.4095, grad_fn=<MeanBackward0>)\n",
      "607 0.03596666666666663 tensor(2.7045, grad_fn=<MeanBackward0>) tensor(1.3939, grad_fn=<MeanBackward0>)\n",
      "660 0.03191111111111108 tensor(2.6533, grad_fn=<MeanBackward0>) tensor(1.3674, grad_fn=<MeanBackward0>)\n",
      "661 0.03798888888888891 tensor(2.7057, grad_fn=<MeanBackward0>) tensor(1.3814, grad_fn=<MeanBackward0>)\n",
      "662 0.10481111111111106 tensor(2.8188, grad_fn=<MeanBackward0>) tensor(1.4257, grad_fn=<MeanBackward0>)\n",
      "663 0.12910000000000005 tensor(2.9320, grad_fn=<MeanBackward0>) tensor(1.4606, grad_fn=<MeanBackward0>)\n",
      "664 0.14612222222222224 tensor(2.8769, grad_fn=<MeanBackward0>) tensor(1.4600, grad_fn=<MeanBackward0>)\n",
      "665 0.07895555555555557 tensor(2.7483, grad_fn=<MeanBackward0>) tensor(1.4019, grad_fn=<MeanBackward0>)\n",
      "666 0.05521111111111109 tensor(2.6770, grad_fn=<MeanBackward0>) tensor(1.3722, grad_fn=<MeanBackward0>)\n",
      "717 0.030611111111111085 tensor(2.6042, grad_fn=<MeanBackward0>) tensor(1.3372, grad_fn=<MeanBackward0>)\n",
      "718 0.0407777777777778 tensor(2.6536, grad_fn=<MeanBackward0>) tensor(1.3496, grad_fn=<MeanBackward0>)\n",
      "719 0.10986666666666665 tensor(2.7538, grad_fn=<MeanBackward0>) tensor(1.3919, grad_fn=<MeanBackward0>)\n",
      "720 0.13492222222222228 tensor(2.8714, grad_fn=<MeanBackward0>) tensor(1.4270, grad_fn=<MeanBackward0>)\n",
      "721 0.17073333333333326 tensor(2.8591, grad_fn=<MeanBackward0>) tensor(1.4462, grad_fn=<MeanBackward0>)\n",
      "722 0.10656666666666668 tensor(2.7313, grad_fn=<MeanBackward0>) tensor(1.3870, grad_fn=<MeanBackward0>)\n",
      "723 0.07335555555555552 tensor(2.6491, grad_fn=<MeanBackward0>) tensor(1.3539, grad_fn=<MeanBackward0>)\n",
      "724 0.035700000000000016 tensor(2.6137, grad_fn=<MeanBackward0>) tensor(1.3337, grad_fn=<MeanBackward0>)\n",
      "725 0.03446666666666667 tensor(2.5954, grad_fn=<MeanBackward0>) tensor(1.3274, grad_fn=<MeanBackward0>)\n",
      "773 0.035233333333333304 tensor(2.5687, grad_fn=<MeanBackward0>) tensor(1.3133, grad_fn=<MeanBackward0>)\n",
      "774 0.051711111111111145 tensor(2.6384, grad_fn=<MeanBackward0>) tensor(1.3325, grad_fn=<MeanBackward0>)\n",
      "775 0.14665555555555548 tensor(2.7704, grad_fn=<MeanBackward0>) tensor(1.3915, grad_fn=<MeanBackward0>)\n",
      "776 0.18746666666666667 tensor(2.8649, grad_fn=<MeanBackward0>) tensor(1.4228, grad_fn=<MeanBackward0>)\n",
      "777 0.19619999999999996 tensor(2.8139, grad_fn=<MeanBackward0>) tensor(1.4281, grad_fn=<MeanBackward0>)\n",
      "778 0.11694444444444448 tensor(2.6731, grad_fn=<MeanBackward0>) tensor(1.3609, grad_fn=<MeanBackward0>)\n",
      "779 0.07835555555555551 tensor(2.6002, grad_fn=<MeanBackward0>) tensor(1.3286, grad_fn=<MeanBackward0>)\n",
      "780 0.03811111111111113 tensor(2.5685, grad_fn=<MeanBackward0>) tensor(1.3090, grad_fn=<MeanBackward0>)\n",
      "781 0.0347888888888889 tensor(2.5505, grad_fn=<MeanBackward0>) tensor(1.3021, grad_fn=<MeanBackward0>)\n",
      "828 0.03328888888888887 tensor(2.5223, grad_fn=<MeanBackward0>) tensor(1.2892, grad_fn=<MeanBackward0>)\n",
      "829 0.055888888888888925 tensor(2.5945, grad_fn=<MeanBackward0>) tensor(1.3086, grad_fn=<MeanBackward0>)\n",
      "830 0.16088888888888883 tensor(2.7463, grad_fn=<MeanBackward0>) tensor(1.3756, grad_fn=<MeanBackward0>)\n",
      "831 0.20505555555555563 tensor(2.8603, grad_fn=<MeanBackward0>) tensor(1.4186, grad_fn=<MeanBackward0>)\n",
      "832 0.25574444444444433 tensor(2.8137, grad_fn=<MeanBackward0>) tensor(1.4357, grad_fn=<MeanBackward0>)\n",
      "833 0.1506666666666667 tensor(2.6597, grad_fn=<MeanBackward0>) tensor(1.3648, grad_fn=<MeanBackward0>)\n",
      "834 0.09492222222222216 tensor(2.5742, grad_fn=<MeanBackward0>) tensor(1.3227, grad_fn=<MeanBackward0>)\n",
      "835 0.05172222222222224 tensor(2.5351, grad_fn=<MeanBackward0>) tensor(1.2963, grad_fn=<MeanBackward0>)\n",
      "836 0.041055555555555526 tensor(2.5130, grad_fn=<MeanBackward0>) tensor(1.2854, grad_fn=<MeanBackward0>)\n",
      "885 0.03746666666666664 tensor(2.4932, grad_fn=<MeanBackward0>) tensor(1.2728, grad_fn=<MeanBackward0>)\n",
      "886 0.06922222222222224 tensor(2.5836, grad_fn=<MeanBackward0>) tensor(1.2976, grad_fn=<MeanBackward0>)\n",
      "887 0.1825555555555555 tensor(2.7492, grad_fn=<MeanBackward0>) tensor(1.3740, grad_fn=<MeanBackward0>)\n",
      "888 0.2493111111111112 tensor(2.8248, grad_fn=<MeanBackward0>) tensor(1.4102, grad_fn=<MeanBackward0>)\n",
      "889 0.26202222222222216 tensor(2.7561, grad_fn=<MeanBackward0>) tensor(1.4199, grad_fn=<MeanBackward0>)\n",
      "890 0.1723666666666667 tensor(2.6246, grad_fn=<MeanBackward0>) tensor(1.3590, grad_fn=<MeanBackward0>)\n",
      "891 0.10217777777777776 tensor(2.5452, grad_fn=<MeanBackward0>) tensor(1.3172, grad_fn=<MeanBackward0>)\n",
      "892 0.0554777777777778 tensor(2.5031, grad_fn=<MeanBackward0>) tensor(1.2863, grad_fn=<MeanBackward0>)\n",
      "893 0.04923333333333331 tensor(2.4770, grad_fn=<MeanBackward0>) tensor(1.2710, grad_fn=<MeanBackward0>)\n",
      "974 0.030233333333333303 tensor(2.4080, grad_fn=<MeanBackward0>) tensor(1.2372, grad_fn=<MeanBackward0>)\n",
      "975 0.06614444444444448 tensor(2.4774, grad_fn=<MeanBackward0>) tensor(1.2591, grad_fn=<MeanBackward0>)\n",
      "976 0.22127777777777774 tensor(2.6514, grad_fn=<MeanBackward0>) tensor(1.3499, grad_fn=<MeanBackward0>)\n",
      "977 0.4023888888888889 tensor(2.9119, grad_fn=<MeanBackward0>) tensor(1.4777, grad_fn=<MeanBackward0>)\n",
      "978 0.47686666666666655 tensor(2.8969, grad_fn=<MeanBackward0>) tensor(1.5397, grad_fn=<MeanBackward0>)\n",
      "979 0.2552111111111112 tensor(2.6554, grad_fn=<MeanBackward0>) tensor(1.3986, grad_fn=<MeanBackward0>)\n",
      "980 0.10248888888888885 tensor(2.4968, grad_fn=<MeanBackward0>) tensor(1.2961, grad_fn=<MeanBackward0>)\n",
      "981 0.04594444444444446 tensor(2.4364, grad_fn=<MeanBackward0>) tensor(1.2505, grad_fn=<MeanBackward0>)\n",
      "982 0.031688888888888884 tensor(2.4058, grad_fn=<MeanBackward0>) tensor(1.2337, grad_fn=<MeanBackward0>)\n",
      "final loss:  2.3475377559661865\n"
     ]
    }
   ],
   "source": [
    "end2end_model = end2end_crps.train_model(x_train, y_train, calibration_threshold = .03)"
   ]
  },
  {
   "cell_type": "code",
   "execution_count": 4,
   "metadata": {},
   "outputs": [
    {
     "name": "stdout",
     "output_type": "stream",
     "text": [
      "End2end test MAPE:  0.08222726\n",
      "End2end test RMSE:  2.6189268\n",
      "End2end test NLLK:  2.6788757\n",
      "End2end test CRPS:  tensor(1.3603)\n"
     ]
    },
    {
     "data": {
      "image/png": "[encoded data removed]",
      "text/plain": [
       "<Figure size 432x288 with 1 Axes>"
      ]
     },
     "metadata": {
      "needs_background": "light"
     },
     "output_type": "display_data"
    },
    {
     "name": "stdout",
     "output_type": "stream",
     "text": [
      "End2end test calibration error when step size is 0.001:  4.1824206049149355\n",
      "End2end test calibration error when step size is 0.01:  0.4126465028355389\n",
      "End2end test calibration error when step size is 0.1:  0.04324196597353499\n"
     ]
    }
   ],
   "source": [
    "mean_pred, var_pred = end2end_model(x_test)\n",
    "mean_pred = mean_pred.detach().numpy()\n",
    "var_pred = var_pred.detach().numpy()\n",
    "sd_pred = np.sqrt(var_pred)\n",
    "\n",
    "print('End2end test MAPE: ', metrics.mape(y_test.detach().numpy(), mean_pred))\n",
    "print('End2end test RMSE: ', metrics.rmse(y_test.detach().numpy(), mean_pred))\n",
    "print('End2end test NLLK: ', metrics.nllk(y_test.detach().numpy(), mean_pred, var_pred))\n",
    "print('End2end test CRPS: ', metrics.CRPSMetric(x = y_test.squeeze(dim = 1), loc = torch.tensor(mean_pred).squeeze(dim = 1), scale = torch.tensor(sd_pred).squeeze(dim = 1)).gaussian_crps().mean())\n",
    "\n",
    "pcdf = metrics.pcdf(mean_pred.squeeze(1), var_pred.squeeze(1), y_test.detach().numpy().squeeze(1))\n",
    "metrics.draw_pcdf(pcdf)\n",
    "print('End2end test calibration error when step size is 0.001: ', metrics.calibration_error(pcdf, step = 0.001))\n",
    "print('End2end test calibration error when step size is 0.01: ', metrics.calibration_error(pcdf, step = 0.01))\n",
    "print('End2end test calibration error when step size is 0.1: ', metrics.calibration_error(pcdf, step = 0.1))"
   ]
  },
  {
   "cell_type": "code",
   "execution_count": null,
   "metadata": {},
   "outputs": [],
   "source": []
  }
 ],
 "metadata": {
  "kernelspec": {
   "display_name": "Python 3",
   "language": "python",
   "name": "python3"
  },
  "language_info": {
   "codemirror_mode": {
    "name": "ipython",
    "version": 3
   },
   "file_extension": ".py",
   "mimetype": "text/x-python",
   "name": "python",
   "nbconvert_exporter": "python",
   "pygments_lexer": "ipython3",
   "version": "3.7.4"
  }
 },
 "nbformat": 4,
 "nbformat_minor": 2
}
