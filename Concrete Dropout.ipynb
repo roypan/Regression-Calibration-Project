{
 "cells": [
  {
   "cell_type": "code",
   "execution_count": 1,
   "metadata": {},
   "outputs": [],
   "source": [
    "import torch\n",
    "import torch.nn as nn\n",
    "import numpy as np\n",
    "import pandas as pd\n",
    "import random\n",
    "import torch.nn.functional as F\n",
    "import matplotlib.pyplot as plt\n",
    "from torch import optim\n",
    "from torch.autograd import Variable\n",
    "from sklearn import preprocessing\n",
    "plt.rc('font', size=12)\n",
    "random.seed(0)"
   ]
  },
  {
   "cell_type": "code",
   "execution_count": 2,
   "metadata": {},
   "outputs": [],
   "source": [
    "# read in the data file\n",
    "dat = pd.read_csv('dataset/auto-mpg.csv', na_values = '?',)\n",
    "dat = dat.drop(columns = ['car name'])\n",
    "y = dat['mpg']\n",
    "x = dat.drop(columns = ['mpg'])\n",
    "origin = x.pop('origin')\n",
    "x['USA'] = (origin == 1) * 1.0\n",
    "x['Europe'] = (origin == 2) * 1.0\n",
    "x['Japan'] = (origin == 3) * 1.0\n",
    "x = x.dropna()\n",
    "scaler = preprocessing.StandardScaler().fit(x)\n",
    "x = scaler.transform(x)\n",
    "\n",
    "ind = np.arange(x.shape[0])\n",
    "random.shuffle(ind)\n",
    "x = x[ind, :]\n",
    "y = y[ind]\n",
    "\n",
    "y_tensor = torch.tensor(y.values).float()\n",
    "x_tensor = torch.tensor(x).float()"
   ]
  },
  {
   "cell_type": "code",
   "execution_count": 3,
   "metadata": {},
   "outputs": [],
   "source": [
    "# create train / test split\n",
    "n = len(y)\n",
    "y_train = y_tensor[:300]\n",
    "y_test = y_tensor[300:]\n",
    "x_train = x_tensor[:300]\n",
    "x_test = x_tensor[300:]"
   ]
  },
  {
   "cell_type": "code",
   "execution_count": 4,
   "metadata": {},
   "outputs": [],
   "source": [
    "class ConcreteDropout(nn.Module):\n",
    "    def __init__(self, weight_regularizer=1e-6,\n",
    "                 dropout_regularizer=1e-5, init_min=0.1, init_max=0.1):\n",
    "        super(ConcreteDropout, self).__init__()\n",
    "\n",
    "        \n",
    "        self.weight_regularizer = weight_regularizer\n",
    "        self.dropout_regularizer = dropout_regularizer\n",
    "        \n",
    "        init_min = np.log(init_min) - np.log(1. - init_min)\n",
    "        init_max = np.log(init_max) - np.log(1. - init_max)\n",
    "        \n",
    "        self.p_logit = nn.Parameter(torch.empty(1).uniform_(init_min, init_max))\n",
    "        \n",
    "    def forward(self, x, layer):\n",
    "        p = torch.sigmoid(self.p_logit)\n",
    "        \n",
    "        out = layer(self._concrete_dropout(x, p))\n",
    "        \n",
    "        sum_of_square = 0\n",
    "        for param in layer.parameters():\n",
    "            sum_of_square += torch.sum(torch.pow(param, 2))\n",
    "        \n",
    "        weights_regularizer = self.weight_regularizer * sum_of_square / (1 - p)\n",
    "        \n",
    "        dropout_regularizer = p * torch.log(p)\n",
    "        dropout_regularizer += (1. - p) * torch.log(1. - p)\n",
    "        \n",
    "        input_dimensionality = x[0].numel() # Number of elements of first item in batch\n",
    "        dropout_regularizer *= self.dropout_regularizer * input_dimensionality\n",
    "        \n",
    "        regularization = weights_regularizer + dropout_regularizer\n",
    "        return out, regularization\n",
    "        \n",
    "    def _concrete_dropout(self, x, p):\n",
    "        eps = 1e-7\n",
    "        temp = 0.1\n",
    "\n",
    "        unif_noise = torch.rand_like(x)\n",
    "\n",
    "        drop_prob = (torch.log(p + eps)\n",
    "                    - torch.log(1 - p + eps)\n",
    "                    + torch.log(unif_noise + eps)\n",
    "                    - torch.log(1 - unif_noise + eps))\n",
    "        \n",
    "        drop_prob = torch.sigmoid(drop_prob / temp)\n",
    "        random_tensor = 1 - drop_prob\n",
    "        retain_prob = 1 - p\n",
    "        \n",
    "        x  = torch.mul(x, random_tensor)\n",
    "        x /= retain_prob\n",
    "        \n",
    "        return x"
   ]
  },
  {
   "cell_type": "code",
   "execution_count": 5,
   "metadata": {},
   "outputs": [],
   "source": [
    "class Model(nn.Module):\n",
    "    def __init__(self, nb_features, weight_regularizer, dropout_regularizer):\n",
    "        super(Model, self).__init__()\n",
    "        self.linear1 = nn.Linear(9, nb_features)\n",
    "        self.linear2 = nn.Linear(nb_features, nb_features)\n",
    "        self.linear3 = nn.Linear(nb_features, nb_features)\n",
    "\n",
    "        self.linear4_mu = nn.Linear(nb_features, 1)\n",
    "        self.linear4_logvar = nn.Linear(nb_features, 1)\n",
    "\n",
    "        self.conc_drop1 = ConcreteDropout(weight_regularizer=weight_regularizer,\n",
    "                                          dropout_regularizer=dropout_regularizer)\n",
    "        self.conc_drop2 = ConcreteDropout(weight_regularizer=weight_regularizer,\n",
    "                                          dropout_regularizer=dropout_regularizer)\n",
    "        self.conc_drop3 = ConcreteDropout(weight_regularizer=weight_regularizer,\n",
    "                                          dropout_regularizer=dropout_regularizer)\n",
    "        self.conc_drop_mu = ConcreteDropout(weight_regularizer=weight_regularizer,\n",
    "                                             dropout_regularizer=dropout_regularizer)\n",
    "        self.conc_drop_logvar = ConcreteDropout(weight_regularizer=weight_regularizer,\n",
    "                                                 dropout_regularizer=dropout_regularizer)\n",
    "        \n",
    "        self.relu = nn.ReLU()\n",
    "        \n",
    "    def forward(self, x):\n",
    "        regularization = torch.empty(5, device=x.device)\n",
    "        \n",
    "        x1, regularization[0] = self.conc_drop1(x, nn.Sequential(self.linear1, self.relu))\n",
    "        x2, regularization[1] = self.conc_drop2(x1, nn.Sequential(self.linear2, self.relu))\n",
    "        x3, regularization[2] = self.conc_drop3(x2, nn.Sequential(self.linear3, self.relu))\n",
    "\n",
    "        mean, regularization[3] = self.conc_drop_mu(x3, self.linear4_mu)\n",
    "        log_var, regularization[4] = self.conc_drop_logvar(x3, self.linear4_logvar)\n",
    "\n",
    "        return mean, log_var, regularization.sum()\n",
    "\n",
    "def heteroscedastic_loss(true, mean, log_var):\n",
    "    precision = torch.exp(-log_var)\n",
    "    return torch.mean(torch.sum(precision * (true - mean)**2 + log_var, 1), 0)"
   ]
  },
  {
   "cell_type": "code",
   "execution_count": 6,
   "metadata": {},
   "outputs": [],
   "source": [
    "nb_epochs = [2000, 1000, 500, 200, 20, 2]\n",
    "nb_features = 20 # Hidden layer size\n",
    "Q = 9 # Data dimensionality\n",
    "D = 1 # One mean, one log_var\n",
    "K_test = 20 # Number of MC samples\n",
    "nb_reps = 3 # Number of times to repeat experiment\n",
    "batch_size = 50\n",
    "l = 1e-4 # Lengthscale"
   ]
  },
  {
   "cell_type": "code",
   "execution_count": 7,
   "metadata": {},
   "outputs": [],
   "source": [
    "def fit_model(nb_epoch, X, Y):\n",
    "    N = X.shape[0]\n",
    "    wr = l**2. / N\n",
    "    dr = 2. / N\n",
    "    model = Model(nb_features, wr, dr)\n",
    "    model = model\n",
    "    optimizer = optim.Adam(model.parameters(), lr = 1e-3)\n",
    "    \n",
    "    for i in range(nb_epoch):\n",
    "        old_batch = 0\n",
    "        for batch in range(int(np.ceil(X.shape[0]/batch_size))):\n",
    "            batch = (batch + 1)\n",
    "            _x = X[old_batch: batch_size*batch]\n",
    "            _y = Y[old_batch: batch_size*batch]\n",
    "            \n",
    "            x = Variable(torch.FloatTensor(_x))\n",
    "            y = Variable(torch.FloatTensor(_y))\n",
    "            \n",
    "            mean, log_var, regularization = model(x)\n",
    "                        \n",
    "            loss = heteroscedastic_loss(y, mean, log_var) + regularization\n",
    "            \n",
    "            optimizer.zero_grad()\n",
    "            loss.backward()\n",
    "            optimizer.step()\n",
    "            \n",
    "            old_batch = batch_size*batch\n",
    "        \n",
    "    print('final loss: ', loss.item())\n",
    "        \n",
    "    return model"
   ]
  },
  {
   "cell_type": "code",
   "execution_count": 8,
   "metadata": {},
   "outputs": [
    {
     "name": "stdout",
     "output_type": "stream",
     "text": [
      "final loss:  4.4337077140808105\n"
     ]
    }
   ],
   "source": [
    "model = fit_model(1000, x_train, y_train.reshape(-1, 1))"
   ]
  },
  {
   "cell_type": "code",
   "execution_count": 9,
   "metadata": {},
   "outputs": [
    {
     "name": "stdout",
     "output_type": "stream",
     "text": [
      "MAPE on test data using NLLK loss:  tensor(0.2110, grad_fn=<MeanBackward0>)\n",
      "MAPE on training data using NLLK loss:  tensor(0.2015, grad_fn=<MeanBackward0>)\n"
     ]
    }
   ],
   "source": [
    "print('MAPE on test data using NLLK loss: ', torch.mean(torch.abs((model(x_test)[0].squeeze(1) - y_test) / y_test)))\n",
    "print('MAPE on training data using NLLK loss: ', torch.mean(torch.abs((model(x_train)[0].squeeze(1) - y_train) / y_train)))"
   ]
  },
  {
   "cell_type": "code",
   "execution_count": 10,
   "metadata": {},
   "outputs": [
    {
     "name": "stdout",
     "output_type": "stream",
     "text": [
      "tensor([0.1588, 0.2007, 0.5425, 0.9423, 0.9114, 0.1209, 0.9066, 0.6048, 0.4680,\n",
      "        0.2746, 0.4451, 0.2090, 0.5154, 0.6410, 0.5190, 0.1702, 0.1945, 0.8412,\n",
      "        0.4572, 0.7291, 0.3052, 0.4570, 0.6848, 0.3005, 0.2519, 0.2397, 0.4592,\n",
      "        0.8194, 0.4039, 0.9893, 0.2395, 0.5111, 0.2688, 0.0611, 0.4574, 0.8118,\n",
      "        0.0560, 0.0168, 0.3304, 0.2207, 0.5565, 0.6436, 0.7202, 0.2817, 0.8167,\n",
      "        0.5561, 0.6549, 0.3741, 0.5072, 0.1134, 0.5870, 0.3493, 0.7918, 0.4377,\n",
      "        0.2837, 0.7538, 0.9855, 0.1601, 0.2508, 0.9344, 0.8987, 0.3143, 0.2355,\n",
      "        0.2847, 0.6559, 0.8774, 0.6067, 0.3284, 0.0349, 0.3948, 0.4376, 0.3183,\n",
      "        0.0150, 0.1178, 0.1126, 0.6430, 0.8788, 0.9167, 0.3010, 0.1798, 0.3614,\n",
      "        0.5631, 0.9941, 0.2628, 0.2162, 0.9923, 0.1822, 0.9118, 0.7938, 0.0082,\n",
      "        0.0958, 0.9389], grad_fn=<CopySlices>)\n"
     ]
    }
   ],
   "source": [
    "n_test = 92\n",
    "mean_test, log_var_test, _ = model(x_test)\n",
    "var_test = torch.exp(log_var_test)\n",
    "\n",
    "pcdf = torch.empty(n_test)\n",
    "\n",
    "for i in range(n_test):\n",
    "    m = torch.distributions.normal.Normal(mean_test[i], torch.sqrt(var_test[i]), validate_args=None)\n",
    "    pcdf[i] = m.cdf(y_test[i])\n",
    "\n",
    "print(pcdf)"
   ]
  },
  {
   "cell_type": "code",
   "execution_count": 11,
   "metadata": {},
   "outputs": [
    {
     "data": {
      "image/png": "[encoded data removed]",
      "text/plain": [
       "<Figure size 432x288 with 1 Axes>"
      ]
     },
     "metadata": {
      "needs_background": "light"
     },
     "output_type": "display_data"
    }
   ],
   "source": [
    "p = np.arange(0,1,0.01) + 0.01\n",
    "pcdf = pcdf.detach().numpy()\n",
    "cumulative_pcdf = np.zeros(len(p))\n",
    "for i in range(len(p)):\n",
    "    cumulative_pcdf[i] = np.mean(pcdf <= p[i])\n",
    "\n",
    "def abline(slope, intercept):\n",
    "    \"\"\"Plot a line from slope and intercept\"\"\"\n",
    "    axes = plt.gca()\n",
    "    x_vals = np.array(axes.get_xlim())\n",
    "    y_vals = intercept + slope * x_vals\n",
    "    plt.plot(x_vals, y_vals, '--')\n",
    "\n",
    "fig, ax = plt.subplots()\n",
    "ax.scatter(cumulative_pcdf, p, c='black')\n",
    "abline(1, 0)\n",
    "plt.grid()\n",
    "plt.xlabel('Predicted cumulative distribution')\n",
    "plt.ylabel('Empirical cumulative distribution')\n",
    "plt.show()"
   ]
  },
  {
   "cell_type": "code",
   "execution_count": 12,
   "metadata": {},
   "outputs": [
    {
     "name": "stdout",
     "output_type": "stream",
     "text": [
      "2.3180349716446114\n",
      "0.23343572778827962\n",
      "0.018761814744801493\n"
     ]
    }
   ],
   "source": [
    "# compute calibration error given a step size\n",
    "step = .001\n",
    "p = np.arange(0,1,step) + step\n",
    "cumulative_pcdf = np.zeros(len(p))\n",
    "for i in range(len(p)):\n",
    "    cumulative_pcdf[i] = np.mean(pcdf <= p[i])\n",
    "print(np.sum((cumulative_pcdf - p) ** 2))\n",
    "\n",
    "step = .01\n",
    "p = np.arange(0,1,step) + step\n",
    "cumulative_pcdf = np.zeros(len(p))\n",
    "for i in range(len(p)):\n",
    "    cumulative_pcdf[i] = np.mean(pcdf <= p[i])\n",
    "print(np.sum((cumulative_pcdf - p) ** 2))\n",
    "\n",
    "step = .1\n",
    "p = np.arange(0,1,step) + step\n",
    "cumulative_pcdf = np.zeros(len(p))\n",
    "for i in range(len(p)):\n",
    "    cumulative_pcdf[i] = np.mean(pcdf <= p[i])\n",
    "print(np.sum((cumulative_pcdf - p) ** 2))"
   ]
  },
  {
   "cell_type": "code",
   "execution_count": null,
   "metadata": {},
   "outputs": [],
   "source": []
  }
 ],
 "metadata": {
  "kernelspec": {
   "display_name": "Python 3",
   "language": "python",
   "name": "python3"
  },
  "language_info": {
   "codemirror_mode": {
    "name": "ipython",
    "version": 3
   },
   "file_extension": ".py",
   "mimetype": "text/x-python",
   "name": "python",
   "nbconvert_exporter": "python",
   "pygments_lexer": "ipython3",
   "version": "3.7.4"
  }
 },
 "nbformat": 4,
 "nbformat_minor": 2
}
