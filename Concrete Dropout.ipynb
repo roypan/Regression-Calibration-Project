{
 "cells": [
  {
   "cell_type": "code",
   "execution_count": 1,
   "metadata": {},
   "outputs": [],
   "source": [
    "import torch\n",
    "import torch.nn as nn\n",
    "import numpy as np\n",
    "import pandas as pd\n",
    "import random\n",
    "import torch.nn.functional as F\n",
    "import matplotlib.pyplot as plt\n",
    "from torch import optim\n",
    "from torch.autograd import Variable\n",
    "from sklearn import preprocessing\n",
    "plt.rc('font', size=12)\n",
    "random.seed(0)"
   ]
  },
  {
   "cell_type": "code",
   "execution_count": 2,
   "metadata": {},
   "outputs": [],
   "source": [
    "# read in the data file\n",
    "dat = pd.read_csv('dataset/auto-mpg.csv', na_values = '?',)\n",
    "dat = dat.drop(columns = ['car name'])\n",
    "y = dat['mpg']\n",
    "x = dat.drop(columns = ['mpg'])\n",
    "origin = x.pop('origin')\n",
    "x['USA'] = (origin == 1) * 1.0\n",
    "x['Europe'] = (origin == 2) * 1.0\n",
    "x['Japan'] = (origin == 3) * 1.0\n",
    "x = x.dropna()\n",
    "scaler = preprocessing.StandardScaler().fit(x)\n",
    "x = scaler.transform(x)\n",
    "\n",
    "ind = np.arange(x.shape[0])\n",
    "random.shuffle(ind)\n",
    "x = x[ind, :]\n",
    "y = y[ind]\n",
    "\n",
    "y_tensor = torch.tensor(y.values).float()\n",
    "x_tensor = torch.tensor(x).float()"
   ]
  },
  {
   "cell_type": "code",
   "execution_count": 3,
   "metadata": {},
   "outputs": [],
   "source": [
    "# create train / test split\n",
    "n = len(y)\n",
    "y_train = y_tensor[:300]\n",
    "y_test = y_tensor[300:]\n",
    "x_train = x_tensor[:300]\n",
    "x_test = x_tensor[300:]"
   ]
  },
  {
   "cell_type": "code",
   "execution_count": 4,
   "metadata": {},
   "outputs": [],
   "source": [
    "class ConcreteDropout(nn.Module):\n",
    "    def __init__(self, weight_regularizer=1e-6,\n",
    "                 dropout_regularizer=1e-5, init_min=0.1, init_max=0.1):\n",
    "        super(ConcreteDropout, self).__init__()\n",
    "\n",
    "        \n",
    "        self.weight_regularizer = weight_regularizer\n",
    "        self.dropout_regularizer = dropout_regularizer\n",
    "        \n",
    "        init_min = np.log(init_min) - np.log(1. - init_min)\n",
    "        init_max = np.log(init_max) - np.log(1. - init_max)\n",
    "        \n",
    "        self.p_logit = nn.Parameter(torch.empty(1).uniform_(init_min, init_max))\n",
    "        \n",
    "    def forward(self, x, layer):\n",
    "        p = torch.sigmoid(self.p_logit)\n",
    "        \n",
    "        out = layer(self._concrete_dropout(x, p))\n",
    "        \n",
    "        sum_of_square = 0\n",
    "        for param in layer.parameters():\n",
    "            sum_of_square += torch.sum(torch.pow(param, 2))\n",
    "        \n",
    "        weights_regularizer = self.weight_regularizer * sum_of_square / (1 - p)\n",
    "        \n",
    "        dropout_regularizer = p * torch.log(p)\n",
    "        dropout_regularizer += (1. - p) * torch.log(1. - p)\n",
    "        \n",
    "        input_dimensionality = x[0].numel() # Number of elements of first item in batch\n",
    "        dropout_regularizer *= self.dropout_regularizer * input_dimensionality\n",
    "        \n",
    "        regularization = weights_regularizer + dropout_regularizer\n",
    "        return out, regularization\n",
    "        \n",
    "    def _concrete_dropout(self, x, p):\n",
    "        eps = 1e-7\n",
    "        temp = 0.1\n",
    "\n",
    "        unif_noise = torch.rand_like(x)\n",
    "\n",
    "        drop_prob = (torch.log(p + eps)\n",
    "                    - torch.log(1 - p + eps)\n",
    "                    + torch.log(unif_noise + eps)\n",
    "                    - torch.log(1 - unif_noise + eps))\n",
    "        \n",
    "        drop_prob = torch.sigmoid(drop_prob / temp)\n",
    "        random_tensor = 1 - drop_prob\n",
    "        retain_prob = 1 - p\n",
    "        \n",
    "        x  = torch.mul(x, random_tensor)\n",
    "        x /= retain_prob\n",
    "        \n",
    "        return x"
   ]
  },
  {
   "cell_type": "code",
   "execution_count": 5,
   "metadata": {},
   "outputs": [],
   "source": [
    "class Model(nn.Module):\n",
    "    def __init__(self, nb_features, weight_regularizer, dropout_regularizer):\n",
    "        super(Model, self).__init__()\n",
    "        self.linear1 = nn.Linear(9, nb_features)\n",
    "        self.linear2 = nn.Linear(nb_features, nb_features)\n",
    "        self.linear3 = nn.Linear(nb_features, nb_features)\n",
    "\n",
    "        self.linear4_mu = nn.Linear(nb_features, 1)\n",
    "        self.linear4_logvar = nn.Linear(nb_features, 1)\n",
    "\n",
    "        self.conc_drop1 = ConcreteDropout(weight_regularizer=weight_regularizer,\n",
    "                                          dropout_regularizer=dropout_regularizer)\n",
    "        self.conc_drop2 = ConcreteDropout(weight_regularizer=weight_regularizer,\n",
    "                                          dropout_regularizer=dropout_regularizer)\n",
    "        self.conc_drop3 = ConcreteDropout(weight_regularizer=weight_regularizer,\n",
    "                                          dropout_regularizer=dropout_regularizer)\n",
    "        self.conc_drop_mu = ConcreteDropout(weight_regularizer=weight_regularizer,\n",
    "                                             dropout_regularizer=dropout_regularizer)\n",
    "        self.conc_drop_logvar = ConcreteDropout(weight_regularizer=weight_regularizer,\n",
    "                                                 dropout_regularizer=dropout_regularizer)\n",
    "        \n",
    "        self.relu = nn.ReLU()\n",
    "        \n",
    "    def forward(self, x):\n",
    "        regularization = torch.empty(5, device=x.device)\n",
    "        \n",
    "        x1, regularization[0] = self.conc_drop1(x, nn.Sequential(self.linear1, self.relu))\n",
    "        x2, regularization[1] = self.conc_drop2(x1, nn.Sequential(self.linear2, self.relu))\n",
    "        x3, regularization[2] = self.conc_drop3(x2, nn.Sequential(self.linear3, self.relu))\n",
    "\n",
    "        mean, regularization[3] = self.conc_drop_mu(x3, self.linear4_mu)\n",
    "        log_var, regularization[4] = self.conc_drop_logvar(x3, self.linear4_logvar)\n",
    "\n",
    "        return mean, log_var, regularization.sum()\n",
    "\n",
    "def heteroscedastic_loss(true, mean, log_var):\n",
    "    precision = torch.exp(-log_var)\n",
    "    return torch.mean(torch.sum(precision * (true - mean)**2 + log_var, 1), 0)"
   ]
  },
  {
   "cell_type": "code",
   "execution_count": 57,
   "metadata": {},
   "outputs": [],
   "source": [
    "nb_epochs = [2000, 1000, 500, 200, 20, 2]\n",
    "nb_features = 20 # Hidden layer size\n",
    "Q = 9 # Data dimensionality\n",
    "D = 1 # One mean, one log_var\n",
    "K_test = 20 # Number of MC samples\n",
    "nb_reps = 3 # Number of times to repeat experiment\n",
    "batch_size = 50\n",
    "l = 1e-4 # Lengthscale"
   ]
  },
  {
   "cell_type": "code",
   "execution_count": 58,
   "metadata": {},
   "outputs": [],
   "source": [
    "def fit_model(nb_epoch, X, Y):\n",
    "    N = X.shape[0]\n",
    "    wr = l**2. / N\n",
    "    dr = 2. / N\n",
    "    model = Model(nb_features, wr, dr)\n",
    "    model = model\n",
    "    optimizer = optim.Adam(model.parameters(), lr = 1e-3)\n",
    "    \n",
    "    for i in range(nb_epoch):\n",
    "        old_batch = 0\n",
    "        for batch in range(int(np.ceil(X.shape[0]/batch_size))):\n",
    "            batch = (batch + 1)\n",
    "            _x = X[old_batch: batch_size*batch]\n",
    "            _y = Y[old_batch: batch_size*batch]\n",
    "            \n",
    "            x = Variable(torch.FloatTensor(_x))\n",
    "            y = Variable(torch.FloatTensor(_y))\n",
    "            \n",
    "            mean, log_var, regularization = model(x)\n",
    "                        \n",
    "            loss = heteroscedastic_loss(y, mean, log_var) + regularization\n",
    "             \n",
    "            optimizer.zero_grad()\n",
    "            loss.backward()\n",
    "            optimizer.step()\n",
    "            \n",
    "            old_batch = batch_size*batch\n",
    "            \n",
    "    return model"
   ]
  },
  {
   "cell_type": "code",
   "execution_count": 59,
   "metadata": {},
   "outputs": [],
   "source": [
    "model = fit_model(1000, x_train, y_train.reshape(-1, 1))"
   ]
  },
  {
   "cell_type": "code",
   "execution_count": 60,
   "metadata": {},
   "outputs": [
    {
     "name": "stdout",
     "output_type": "stream",
     "text": [
      "MAPE on test data using NLLK loss:  tensor(0.1955, grad_fn=<MeanBackward0>)\n",
      "MAPE on training data using NLLK loss:  tensor(0.1952, grad_fn=<MeanBackward0>)\n"
     ]
    }
   ],
   "source": [
    "print('MAPE on test data using NLLK loss: ', torch.mean(torch.abs((model(x_test)[0].squeeze(1) - y_test) / y_test)))\n",
    "print('MAPE on training data using NLLK loss: ', torch.mean(torch.abs((model(x_train)[0].squeeze(1) - y_train) / y_train)))"
   ]
  },
  {
   "cell_type": "code",
   "execution_count": 63,
   "metadata": {},
   "outputs": [
    {
     "name": "stdout",
     "output_type": "stream",
     "text": [
      "tensor([0.2218, 0.0994, 0.8334, 0.9229, 0.8911, 0.1606, 0.7193, 0.6232, 0.5673,\n",
      "        0.4495, 0.5415, 0.3130, 0.8815, 0.8074, 0.5694, 0.2508, 0.6912, 0.6815,\n",
      "        0.4995, 0.4426, 0.8254, 0.6811, 0.7707, 0.2985, 0.3620, 0.4918, 0.7656,\n",
      "        0.9163, 0.3818, 0.9685, 0.6847, 0.6114, 0.5353, 0.1748, 0.7560, 0.9451,\n",
      "        0.0525, 0.0356, 0.4761, 0.3722, 0.8301, 0.8574, 0.6368, 0.3217, 0.9119,\n",
      "        0.5500, 0.7344, 0.3680, 0.9066, 0.2201, 0.5934, 0.3552, 0.6536, 0.3609,\n",
      "        0.0983, 0.8582, 0.9972, 0.1083, 0.2233, 0.9492, 0.7764, 0.5289, 0.1098,\n",
      "        0.1932, 0.9683, 0.7827, 0.8004, 0.3406, 0.1405, 0.7000, 0.4251, 0.3526,\n",
      "        0.0514, 0.0975, 0.1377, 0.3622, 0.9844, 0.8611, 0.5031, 0.1497, 0.3200,\n",
      "        0.3753, 0.8588, 0.2363, 0.1717, 0.9955, 0.5058, 0.9135, 0.8139, 0.0037,\n",
      "        0.2438, 0.8758], grad_fn=<CopySlices>)\n"
     ]
    }
   ],
   "source": [
    "n_test = 92\n",
    "mean_test, log_var_test, _ = model(x_test)\n",
    "var_test = torch.exp(log_var_test)\n",
    "\n",
    "pcdf = torch.empty(n_test)\n",
    "\n",
    "for i in range(n_test):\n",
    "    m = torch.distributions.normal.Normal(mean_test[i], torch.sqrt(var_test[i]), validate_args=None)\n",
    "    pcdf[i] = m.cdf(y_test[i])\n",
    "\n",
    "print(pcdf)"
   ]
  },
  {
   "cell_type": "code",
   "execution_count": 65,
   "metadata": {},
   "outputs": [
    {
     "data": {
      "image/png": "[encoded data removed]",
      "text/plain": [
       "<Figure size 432x288 with 1 Axes>"
      ]
     },
     "metadata": {
      "needs_background": "light"
     },
     "output_type": "display_data"
    }
   ],
   "source": [
    "from statsmodels.distributions.empirical_distribution import ECDF\n",
    "ecdf = ECDF(y_test.detach().numpy())\n",
    "\n",
    "def abline(slope, intercept):\n",
    "    \"\"\"Plot a line from slope and intercept\"\"\"\n",
    "    axes = plt.gca()\n",
    "    x_vals = np.array(axes.get_xlim())\n",
    "    y_vals = intercept + slope * x_vals\n",
    "    plt.plot(x_vals, y_vals, '--')\n",
    "\n",
    "fig, ax = plt.subplots()\n",
    "ax.scatter(pcdf.detach().numpy(), ecdf(y_test.detach().numpy()), c='black')\n",
    "abline(1, 0)\n",
    "plt.grid()\n",
    "plt.xlabel('predicted CDFs')\n",
    "plt.ylabel('empirical CDFs')\n",
    "plt.show()"
   ]
  },
  {
   "cell_type": "code",
   "execution_count": null,
   "metadata": {},
   "outputs": [],
   "source": []
  }
 ],
 "metadata": {
  "kernelspec": {
   "display_name": "Python 3",
   "language": "python",
   "name": "python3"
  },
  "language_info": {
   "codemirror_mode": {
    "name": "ipython",
    "version": 3
   },
   "file_extension": ".py",
   "mimetype": "text/x-python",
   "name": "python",
   "nbconvert_exporter": "python",
   "pygments_lexer": "ipython3",
   "version": "3.7.4"
  }
 },
 "nbformat": 4,
 "nbformat_minor": 2
}
