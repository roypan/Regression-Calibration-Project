{
 "cells": [
  {
   "cell_type": "code",
   "execution_count": 1,
   "metadata": {},
   "outputs": [],
   "source": [
    "import torch\n",
    "import numpy as np\n",
    "import matplotlib.pyplot as plt\n",
    "\n",
    "from data import data_preprocess\n",
    "from evaluation import metrics\n",
    "from model import end2end, end2end_crps"
   ]
  },
  {
   "cell_type": "code",
   "execution_count": 2,
   "metadata": {},
   "outputs": [],
   "source": [
    "x_train, y_train, x_test, y_test = data_preprocess.data_preprocess('kin8nm')"
   ]
  },
  {
   "cell_type": "code",
   "execution_count": 3,
   "metadata": {},
   "outputs": [
    {
     "name": "stdout",
     "output_type": "stream",
     "text": [
      "initial loss:  0.42497169971466064\n",
      "256 0.042414834721848996 tensor(-3.7060, grad_fn=<MeanBackward0>) tensor(0.0529, grad_fn=<MeanBackward0>)\n",
      "258 0.08101945713517875 tensor(-3.6801, grad_fn=<MeanBackward0>) tensor(0.0539, grad_fn=<MeanBackward0>)\n",
      "259 0.04696457941413597 tensor(-3.6481, grad_fn=<MeanBackward0>) tensor(0.0532, grad_fn=<MeanBackward0>)\n",
      "260 0.20429107766729376 tensor(-3.5630, grad_fn=<MeanBackward0>) tensor(0.0574, grad_fn=<MeanBackward0>)\n",
      "261 0.14508591776404187 tensor(-3.4967, grad_fn=<MeanBackward0>) tensor(0.0564, grad_fn=<MeanBackward0>)\n",
      "262 0.4399795753829617 tensor(-3.2998, grad_fn=<MeanBackward0>) tensor(0.0651, grad_fn=<MeanBackward0>)\n",
      "263 0.21435079279763497 tensor(-3.4038, grad_fn=<MeanBackward0>) tensor(0.0587, grad_fn=<MeanBackward0>)\n",
      "264 0.42163069067454995 tensor(-3.3198, grad_fn=<MeanBackward0>) tensor(0.0648, grad_fn=<MeanBackward0>)\n",
      "265 0.11543652244020418 tensor(-3.5617, grad_fn=<MeanBackward0>) tensor(0.0553, grad_fn=<MeanBackward0>)\n",
      "266 0.17539013705993017 tensor(-3.5899, grad_fn=<MeanBackward0>) tensor(0.0565, grad_fn=<MeanBackward0>)\n",
      "267 0.0455464391292663 tensor(-3.6719, grad_fn=<MeanBackward0>) tensor(0.0528, grad_fn=<MeanBackward0>)\n",
      "268 0.07960677237301804 tensor(-3.6916, grad_fn=<MeanBackward0>) tensor(0.0533, grad_fn=<MeanBackward0>)\n",
      "270 0.04767761354474606 tensor(-3.7290, grad_fn=<MeanBackward0>) tensor(0.0522, grad_fn=<MeanBackward0>)\n",
      "272 0.037733082504703044 tensor(-3.7467, grad_fn=<MeanBackward0>) tensor(0.0518, grad_fn=<MeanBackward0>)\n",
      "274 0.0348435366836872 tensor(-3.7573, grad_fn=<MeanBackward0>) tensor(0.0515, grad_fn=<MeanBackward0>)\n",
      "276 0.03793206127385113 tensor(-3.7628, grad_fn=<MeanBackward0>) tensor(0.0515, grad_fn=<MeanBackward0>)\n",
      "278 0.048366998118785295 tensor(-3.7616, grad_fn=<MeanBackward0>) tensor(0.0516, grad_fn=<MeanBackward0>)\n",
      "280 0.07058266595001346 tensor(-3.7480, grad_fn=<MeanBackward0>) tensor(0.0521, grad_fn=<MeanBackward0>)\n",
      "281 0.03298414404729908 tensor(-3.7370, grad_fn=<MeanBackward0>) tensor(0.0513, grad_fn=<MeanBackward0>)\n",
      "282 0.12009666756248323 tensor(-3.7046, grad_fn=<MeanBackward0>) tensor(0.0533, grad_fn=<MeanBackward0>)\n",
      "283 0.06686530502553073 tensor(-3.6865, grad_fn=<MeanBackward0>) tensor(0.0522, grad_fn=<MeanBackward0>)\n",
      "284 0.20046272507390495 tensor(-3.6228, grad_fn=<MeanBackward0>) tensor(0.0557, grad_fn=<MeanBackward0>)\n",
      "285 0.10974840096748184 tensor(-3.6273, grad_fn=<MeanBackward0>) tensor(0.0535, grad_fn=<MeanBackward0>)\n",
      "286 0.26042843321687725 tensor(-3.5601, grad_fn=<MeanBackward0>) tensor(0.0574, grad_fn=<MeanBackward0>)\n",
      "287 0.11384829346949737 tensor(-3.6299, grad_fn=<MeanBackward0>) tensor(0.0535, grad_fn=<MeanBackward0>)\n",
      "288 0.2166149959688256 tensor(-3.6088, grad_fn=<MeanBackward0>) tensor(0.0561, grad_fn=<MeanBackward0>)\n",
      "289 0.07535280838484275 tensor(-3.6916, grad_fn=<MeanBackward0>) tensor(0.0522, grad_fn=<MeanBackward0>)\n",
      "290 0.13499078204783663 tensor(-3.6992, grad_fn=<MeanBackward0>) tensor(0.0535, grad_fn=<MeanBackward0>)\n",
      "291 0.04362010212308516 tensor(-3.7463, grad_fn=<MeanBackward0>) tensor(0.0511, grad_fn=<MeanBackward0>)\n",
      "292 0.08438156409567321 tensor(-3.7562, grad_fn=<MeanBackward0>) tensor(0.0518, grad_fn=<MeanBackward0>)\n",
      "294 0.05577847352862136 tensor(-3.7885, grad_fn=<MeanBackward0>) tensor(0.0509, grad_fn=<MeanBackward0>)\n",
      "296 0.04424740661112607 tensor(-3.8056, grad_fn=<MeanBackward0>) tensor(0.0505, grad_fn=<MeanBackward0>)\n",
      "298 0.04019553883364687 tensor(-3.8154, grad_fn=<MeanBackward0>) tensor(0.0502, grad_fn=<MeanBackward0>)\n",
      "300 0.040609916689062095 tensor(-3.8206, grad_fn=<MeanBackward0>) tensor(0.0501, grad_fn=<MeanBackward0>)\n",
      "302 0.045699677506046796 tensor(-3.8215, grad_fn=<MeanBackward0>) tensor(0.0501, grad_fn=<MeanBackward0>)\n",
      "304 0.05718787960225748 tensor(-3.8167, grad_fn=<MeanBackward0>) tensor(0.0503, grad_fn=<MeanBackward0>)\n",
      "306 0.07567581295350717 tensor(-3.8044, grad_fn=<MeanBackward0>) tensor(0.0507, grad_fn=<MeanBackward0>)\n",
      "307 0.03559994625100777 tensor(-3.8003, grad_fn=<MeanBackward0>) tensor(0.0498, grad_fn=<MeanBackward0>)\n",
      "308 0.10363660306369261 tensor(-3.7788, grad_fn=<MeanBackward0>) tensor(0.0514, grad_fn=<MeanBackward0>)\n",
      "309 0.05286938994893842 tensor(-3.7774, grad_fn=<MeanBackward0>) tensor(0.0502, grad_fn=<MeanBackward0>)\n",
      "310 0.1349259876377318 tensor(-3.7489, grad_fn=<MeanBackward0>) tensor(0.0522, grad_fn=<MeanBackward0>)\n",
      "311 0.06660115560333242 tensor(-3.7605, grad_fn=<MeanBackward0>) tensor(0.0506, grad_fn=<MeanBackward0>)\n",
      "312 0.14880360118247787 tensor(-3.7358, grad_fn=<MeanBackward0>) tensor(0.0525, grad_fn=<MeanBackward0>)\n",
      "313 0.06693837678043534 tensor(-3.7653, grad_fn=<MeanBackward0>) tensor(0.0505, grad_fn=<MeanBackward0>)\n",
      "314 0.13551781779091646 tensor(-3.7542, grad_fn=<MeanBackward0>) tensor(0.0521, grad_fn=<MeanBackward0>)\n",
      "315 0.054359580757860765 tensor(-3.7897, grad_fn=<MeanBackward0>) tensor(0.0500, grad_fn=<MeanBackward0>)\n",
      "316 0.10557145928513843 tensor(-3.7897, grad_fn=<MeanBackward0>) tensor(0.0511, grad_fn=<MeanBackward0>)\n",
      "317 0.038533055630206904 tensor(-3.8179, grad_fn=<MeanBackward0>) tensor(0.0495, grad_fn=<MeanBackward0>)\n",
      "318 0.07882657887664608 tensor(-3.8217, grad_fn=<MeanBackward0>) tensor(0.0502, grad_fn=<MeanBackward0>)\n",
      "320 0.05713061005106155 tensor(-3.8471, grad_fn=<MeanBackward0>) tensor(0.0496, grad_fn=<MeanBackward0>)\n",
      "322 0.04496267132491269 tensor(-3.8632, grad_fn=<MeanBackward0>) tensor(0.0492, grad_fn=<MeanBackward0>)\n",
      "324 0.03861002418704652 tensor(-3.8736, grad_fn=<MeanBackward0>) tensor(0.0489, grad_fn=<MeanBackward0>)\n",
      "326 0.03598328406342382 tensor(-3.8804, grad_fn=<MeanBackward0>) tensor(0.0487, grad_fn=<MeanBackward0>)\n",
      "328 0.03649733942488581 tensor(-3.8845, grad_fn=<MeanBackward0>) tensor(0.0486, grad_fn=<MeanBackward0>)\n",
      "330 0.03910448804084925 tensor(-3.8864, grad_fn=<MeanBackward0>) tensor(0.0486, grad_fn=<MeanBackward0>)\n",
      "332 0.044097285675893584 tensor(-3.8859, grad_fn=<MeanBackward0>) tensor(0.0487, grad_fn=<MeanBackward0>)\n",
      "334 0.05109629131953779 tensor(-3.8828, grad_fn=<MeanBackward0>) tensor(0.0488, grad_fn=<MeanBackward0>)\n",
      "336 0.059881026605751154 tensor(-3.8775, grad_fn=<MeanBackward0>) tensor(0.0489, grad_fn=<MeanBackward0>)\n",
      "338 0.06921480784735289 tensor(-3.8716, grad_fn=<MeanBackward0>) tensor(0.0491, grad_fn=<MeanBackward0>)\n",
      "339 0.03250886858371405 tensor(-3.8741, grad_fn=<MeanBackward0>) tensor(0.0483, grad_fn=<MeanBackward0>)\n",
      "340 0.08040580489115831 tensor(-3.8636, grad_fn=<MeanBackward0>) tensor(0.0493, grad_fn=<MeanBackward0>)\n",
      "341 0.03761034668099972 tensor(-3.8701, grad_fn=<MeanBackward0>) tensor(0.0483, grad_fn=<MeanBackward0>)\n",
      "342 0.08609736629938192 tensor(-3.8607, grad_fn=<MeanBackward0>) tensor(0.0494, grad_fn=<MeanBackward0>)\n",
      "343 0.03891574845471645 tensor(-3.8721, grad_fn=<MeanBackward0>) tensor(0.0483, grad_fn=<MeanBackward0>)\n",
      "344 0.0841233539371137 tensor(-3.8661, grad_fn=<MeanBackward0>) tensor(0.0492, grad_fn=<MeanBackward0>)\n",
      "345 0.03604423542058585 tensor(-3.8807, grad_fn=<MeanBackward0>) tensor(0.0481, grad_fn=<MeanBackward0>)\n",
      "346 0.07457078742273586 tensor(-3.8786, grad_fn=<MeanBackward0>) tensor(0.0489, grad_fn=<MeanBackward0>)\n",
      "347 0.030621580220370856 tensor(-3.8932, grad_fn=<MeanBackward0>) tensor(0.0479, grad_fn=<MeanBackward0>)\n",
      "348 0.06346995431335666 tensor(-3.8938, grad_fn=<MeanBackward0>) tensor(0.0485, grad_fn=<MeanBackward0>)\n",
      "350 0.050712012899758144 tensor(-3.9110, grad_fn=<MeanBackward0>) tensor(0.0481, grad_fn=<MeanBackward0>)\n",
      "352 0.040691561408223616 tensor(-3.9241, grad_fn=<MeanBackward0>) tensor(0.0478, grad_fn=<MeanBackward0>)\n",
      "354 0.03466745498521904 tensor(-3.9339, grad_fn=<MeanBackward0>) tensor(0.0475, grad_fn=<MeanBackward0>)\n",
      "356 0.030203198065036303 tensor(-3.9414, grad_fn=<MeanBackward0>) tensor(0.0474, grad_fn=<MeanBackward0>)\n",
      "374 0.03271709217952166 tensor(-3.9692, grad_fn=<MeanBackward0>) tensor(0.0468, grad_fn=<MeanBackward0>)\n",
      "376 0.03891214727223866 tensor(-3.9657, grad_fn=<MeanBackward0>) tensor(0.0469, grad_fn=<MeanBackward0>)\n",
      "378 0.04596815372211774 tensor(-3.9618, grad_fn=<MeanBackward0>) tensor(0.0470, grad_fn=<MeanBackward0>)\n",
      "380 0.05109873689868318 tensor(-3.9591, grad_fn=<MeanBackward0>) tensor(0.0470, grad_fn=<MeanBackward0>)\n"
     ]
    },
    {
     "name": "stdout",
     "output_type": "stream",
     "text": [
      "382 0.052813114754098375 tensor(-3.9600, grad_fn=<MeanBackward0>) tensor(0.0470, grad_fn=<MeanBackward0>)\n",
      "384 0.050643106691749575 tensor(-3.9649, grad_fn=<MeanBackward0>) tensor(0.0469, grad_fn=<MeanBackward0>)\n",
      "386 0.04561722655200217 tensor(-3.9730, grad_fn=<MeanBackward0>) tensor(0.0467, grad_fn=<MeanBackward0>)\n",
      "388 0.03965081967213117 tensor(-3.9824, grad_fn=<MeanBackward0>) tensor(0.0465, grad_fn=<MeanBackward0>)\n",
      "390 0.033531523783929075 tensor(-3.9915, grad_fn=<MeanBackward0>) tensor(0.0463, grad_fn=<MeanBackward0>)\n",
      "final loss:  -4.149160385131836\n"
     ]
    }
   ],
   "source": [
    "end2end_model = end2end_crps.train_model(x_train, y_train, n_epoch = 500, hidden_layers = [100, 100, 100], learning_rate = 0.001, exp_decay = .995, calibration_threshold = .03)"
   ]
  },
  {
   "cell_type": "code",
   "execution_count": 4,
   "metadata": {},
   "outputs": [
    {
     "name": "stdout",
     "output_type": "stream",
     "text": [
      "End2end test MAPE:  0.12632033\n",
      "End2end test RMSE:  0.089832366\n",
      "End2end test NLLK:  -3.693946\n",
      "End2end test CRPS:  tensor(0.0498)\n"
     ]
    },
    {
     "data": {
      "image/png": "[encoded data removed]",
      "text/plain": [
       "<Figure size 432x288 with 1 Axes>"
      ]
     },
     "metadata": {
      "needs_background": "light"
     },
     "output_type": "display_data"
    },
    {
     "name": "stdout",
     "output_type": "stream",
     "text": [
      "End2end test calibration error when step size is 0.001:  0.4103543956947896\n",
      "End2end test calibration error when step size is 0.01:  0.04086858249033929\n",
      "End2end test calibration error when step size is 0.1:  0.004034992633322245\n"
     ]
    }
   ],
   "source": [
    "mean_pred, var_pred = end2end_model(x_test)\n",
    "mean_pred = mean_pred.detach().numpy()\n",
    "var_pred = var_pred.detach().numpy()\n",
    "sd_pred = np.sqrt(var_pred)\n",
    "\n",
    "print('End2end test MAPE: ', metrics.mape(y_test.detach().numpy(), mean_pred))\n",
    "print('End2end test RMSE: ', metrics.rmse(y_test.detach().numpy(), mean_pred))\n",
    "print('End2end test NLLK: ', metrics.nllk(y_test.detach().numpy(), mean_pred, var_pred))\n",
    "print('End2end test CRPS: ', metrics.CRPSMetric(x = y_test.squeeze(dim = 1), loc = torch.tensor(mean_pred).squeeze(dim = 1), scale = torch.tensor(sd_pred).squeeze(dim = 1)).gaussian_crps().mean())\n",
    "\n",
    "pcdf = metrics.pcdf(mean_pred.squeeze(1), var_pred.squeeze(1), y_test.detach().numpy().squeeze(1))\n",
    "metrics.draw_pcdf(pcdf)\n",
    "print('End2end test calibration error when step size is 0.001: ', metrics.calibration_error(pcdf, step = 0.001))\n",
    "print('End2end test calibration error when step size is 0.01: ', metrics.calibration_error(pcdf, step = 0.01))\n",
    "print('End2end test calibration error when step size is 0.1: ', metrics.calibration_error(pcdf, step = 0.1))"
   ]
  },
  {
   "cell_type": "code",
   "execution_count": null,
   "metadata": {},
   "outputs": [],
   "source": []
  }
 ],
 "metadata": {
  "kernelspec": {
   "display_name": "Python 3",
   "language": "python",
   "name": "python3"
  },
  "language_info": {
   "codemirror_mode": {
    "name": "ipython",
    "version": 3
   },
   "file_extension": ".py",
   "mimetype": "text/x-python",
   "name": "python",
   "nbconvert_exporter": "python",
   "pygments_lexer": "ipython3",
   "version": "3.7.4"
  }
 },
 "nbformat": 4,
 "nbformat_minor": 2
}
