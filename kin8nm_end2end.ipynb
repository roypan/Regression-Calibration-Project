{
 "cells": [
  {
   "cell_type": "code",
   "execution_count": 1,
   "metadata": {},
   "outputs": [],
   "source": [
    "import torch\n",
    "import numpy as np\n",
    "import matplotlib.pyplot as plt\n",
    "\n",
    "from data import data_preprocess\n",
    "from evaluation import metrics\n",
    "from model import end2end"
   ]
  },
  {
   "cell_type": "code",
   "execution_count": 2,
   "metadata": {},
   "outputs": [],
   "source": [
    "x_train, y_train, x_test, y_test = data_preprocess.data_preprocess('kin8nm')"
   ]
  },
  {
   "cell_type": "code",
   "execution_count": 3,
   "metadata": {},
   "outputs": [
    {
     "name": "stdout",
     "output_type": "stream",
     "text": [
      "initial loss:  0.5082708597183228\n",
      "251 0.041706396130072536 tensor(-3.4869, grad_fn=<MeanBackward0>) tensor(0.0430, grad_fn=<SumBackward1>)\n",
      "252 0.20730177371674288 tensor(-3.4437, grad_fn=<MeanBackward0>) tensor(0.0587, grad_fn=<SumBackward1>)\n",
      "253 0.0790312281644719 tensor(-3.4260, grad_fn=<MeanBackward0>) tensor(0.0467, grad_fn=<SumBackward1>)\n",
      "254 0.30628817522171464 tensor(-3.3500, grad_fn=<MeanBackward0>) tensor(0.0682, grad_fn=<SumBackward1>)\n",
      "255 0.10784694974469225 tensor(-3.3888, grad_fn=<MeanBackward0>) tensor(0.0493, grad_fn=<SumBackward1>)\n",
      "256 0.3162723730180059 tensor(-3.3393, grad_fn=<MeanBackward0>) tensor(0.0692, grad_fn=<SumBackward1>)\n",
      "257 0.08231214727223862 tensor(-3.4344, grad_fn=<MeanBackward0>) tensor(0.0470, grad_fn=<SumBackward1>)\n",
      "258 0.2239145122278958 tensor(-3.4332, grad_fn=<MeanBackward0>) tensor(0.0602, grad_fn=<SumBackward1>)\n",
      "259 0.04899494759473257 tensor(-3.4970, grad_fn=<MeanBackward0>) tensor(0.0438, grad_fn=<SumBackward1>)\n",
      "260 0.14787538296156952 tensor(-3.5076, grad_fn=<MeanBackward0>) tensor(0.0531, grad_fn=<SumBackward1>)\n",
      "261 0.03167299113141625 tensor(-3.5368, grad_fn=<MeanBackward0>) tensor(0.0420, grad_fn=<SumBackward1>)\n",
      "262 0.11538742273582374 tensor(-3.5450, grad_fn=<MeanBackward0>) tensor(0.0500, grad_fn=<SumBackward1>)\n",
      "264 0.09522096210696053 tensor(-3.5704, grad_fn=<MeanBackward0>) tensor(0.0481, grad_fn=<SumBackward1>)\n",
      "266 0.09365619457135181 tensor(-3.5805, grad_fn=<MeanBackward0>) tensor(0.0479, grad_fn=<SumBackward1>)\n",
      "268 0.10499830690674553 tensor(-3.5791, grad_fn=<MeanBackward0>) tensor(0.0490, grad_fn=<SumBackward1>)\n",
      "270 0.12895243214189736 tensor(-3.5660, grad_fn=<MeanBackward0>) tensor(0.0513, grad_fn=<SumBackward1>)\n",
      "271 0.03944012362268206 tensor(-3.5544, grad_fn=<MeanBackward0>) tensor(0.0427, grad_fn=<SumBackward1>)\n",
      "272 0.18077417360924491 tensor(-3.5240, grad_fn=<MeanBackward0>) tensor(0.0563, grad_fn=<SumBackward1>)\n",
      "273 0.06117522171459282 tensor(-3.5196, grad_fn=<MeanBackward0>) tensor(0.0449, grad_fn=<SumBackward1>)\n",
      "274 0.22971730717549055 tensor(-3.4803, grad_fn=<MeanBackward0>) tensor(0.0609, grad_fn=<SumBackward1>)\n",
      "275 0.07274888470841169 tensor(-3.5072, grad_fn=<MeanBackward0>) tensor(0.0460, grad_fn=<SumBackward1>)\n",
      "276 0.22763281375974206 tensor(-3.4840, grad_fn=<MeanBackward0>) tensor(0.0608, grad_fn=<SumBackward1>)\n",
      "277 0.06044555227089489 tensor(-3.5337, grad_fn=<MeanBackward0>) tensor(0.0449, grad_fn=<SumBackward1>)\n",
      "278 0.17959199140016133 tensor(-3.5328, grad_fn=<MeanBackward0>) tensor(0.0562, grad_fn=<SumBackward1>)\n",
      "279 0.04211384036549311 tensor(-3.5728, grad_fn=<MeanBackward0>) tensor(0.0430, grad_fn=<SumBackward1>)\n",
      "280 0.13381685030905674 tensor(-3.5801, grad_fn=<MeanBackward0>) tensor(0.0518, grad_fn=<SumBackward1>)\n",
      "282 0.09486484815909704 tensor(-3.6211, grad_fn=<MeanBackward0>) tensor(0.0480, grad_fn=<SumBackward1>)\n",
      "284 0.07833958613276001 tensor(-3.6422, grad_fn=<MeanBackward0>) tensor(0.0463, grad_fn=<SumBackward1>)\n",
      "286 0.07365264713786622 tensor(-3.6527, grad_fn=<MeanBackward0>) tensor(0.0459, grad_fn=<SumBackward1>)\n",
      "288 0.07740174684224672 tensor(-3.6563, grad_fn=<MeanBackward0>) tensor(0.0463, grad_fn=<SumBackward1>)\n",
      "290 0.08719527008868586 tensor(-3.6535, grad_fn=<MeanBackward0>) tensor(0.0473, grad_fn=<SumBackward1>)\n",
      "292 0.1041963181940339 tensor(-3.6446, grad_fn=<MeanBackward0>) tensor(0.0489, grad_fn=<SumBackward1>)\n",
      "293 0.03003450685299648 tensor(-3.6354, grad_fn=<MeanBackward0>) tensor(0.0418, grad_fn=<SumBackward1>)\n",
      "294 0.14071222789572702 tensor(-3.6167, grad_fn=<MeanBackward0>) tensor(0.0524, grad_fn=<SumBackward1>)\n",
      "295 0.044974119860252584 tensor(-3.6114, grad_fn=<MeanBackward0>) tensor(0.0433, grad_fn=<SumBackward1>)\n",
      "296 0.1747728298844397 tensor(-3.5868, grad_fn=<MeanBackward0>) tensor(0.0558, grad_fn=<SumBackward1>)\n",
      "297 0.05588255845202898 tensor(-3.5986, grad_fn=<MeanBackward0>) tensor(0.0443, grad_fn=<SumBackward1>)\n",
      "298 0.18329728567589365 tensor(-3.5817, grad_fn=<MeanBackward0>) tensor(0.0565, grad_fn=<SumBackward1>)\n",
      "299 0.051393711367911835 tensor(-3.6113, grad_fn=<MeanBackward0>) tensor(0.0439, grad_fn=<SumBackward1>)\n",
      "300 0.15658508465466273 tensor(-3.6091, grad_fn=<MeanBackward0>) tensor(0.0541, grad_fn=<SumBackward1>)\n",
      "301 0.039370357430798156 tensor(-3.6392, grad_fn=<MeanBackward0>) tensor(0.0427, grad_fn=<SumBackward1>)\n",
      "302 0.12369879064767539 tensor(-3.6453, grad_fn=<MeanBackward0>) tensor(0.0508, grad_fn=<SumBackward1>)\n",
      "304 0.08528637463047571 tensor(-3.6839, grad_fn=<MeanBackward0>) tensor(0.0471, grad_fn=<SumBackward1>)\n",
      "306 0.06744369793066379 tensor(-3.7054, grad_fn=<MeanBackward0>) tensor(0.0453, grad_fn=<SumBackward1>)\n",
      "308 0.058582101585595285 tensor(-3.7177, grad_fn=<MeanBackward0>) tensor(0.0445, grad_fn=<SumBackward1>)\n",
      "310 0.05624157484547168 tensor(-3.7248, grad_fn=<MeanBackward0>) tensor(0.0443, grad_fn=<SumBackward1>)\n",
      "312 0.05917817790916422 tensor(-3.7281, grad_fn=<MeanBackward0>) tensor(0.0445, grad_fn=<SumBackward1>)\n",
      "314 0.06519887127116368 tensor(-3.7281, grad_fn=<MeanBackward0>) tensor(0.0451, grad_fn=<SumBackward1>)\n",
      "316 0.074503896801935 tensor(-3.7251, grad_fn=<MeanBackward0>) tensor(0.0460, grad_fn=<SumBackward1>)\n",
      "318 0.08617092179521636 tensor(-3.7193, grad_fn=<MeanBackward0>) tensor(0.0472, grad_fn=<SumBackward1>)\n",
      "320 0.09753746304756791 tensor(-3.7128, grad_fn=<MeanBackward0>) tensor(0.0483, grad_fn=<SumBackward1>)\n",
      "322 0.10558465466272511 tensor(-3.7094, grad_fn=<MeanBackward0>) tensor(0.0490, grad_fn=<SumBackward1>)\n",
      "323 0.03072332706261756 tensor(-3.7082, grad_fn=<MeanBackward0>) tensor(0.0419, grad_fn=<SumBackward1>)\n",
      "324 0.12124595538833652 tensor(-3.6987, grad_fn=<MeanBackward0>) tensor(0.0505, grad_fn=<SumBackward1>)\n",
      "325 0.03544340231120665 tensor(-3.7038, grad_fn=<MeanBackward0>) tensor(0.0423, grad_fn=<SumBackward1>)\n",
      "326 0.1258702230583177 tensor(-3.6972, grad_fn=<MeanBackward0>) tensor(0.0510, grad_fn=<SumBackward1>)\n",
      "327 0.034902338081160944 tensor(-3.7093, grad_fn=<MeanBackward0>) tensor(0.0423, grad_fn=<SumBackward1>)\n",
      "328 0.11742389142703577 tensor(-3.7084, grad_fn=<MeanBackward0>) tensor(0.0502, grad_fn=<SumBackward1>)\n",
      "330 0.08822692824509543 tensor(-3.7386, grad_fn=<MeanBackward0>) tensor(0.0473, grad_fn=<SumBackward1>)\n",
      "332 0.06669779629131956 tensor(-3.7605, grad_fn=<MeanBackward0>) tensor(0.0454, grad_fn=<SumBackward1>)\n",
      "334 0.054893765116904095 tensor(-3.7749, grad_fn=<MeanBackward0>) tensor(0.0442, grad_fn=<SumBackward1>)\n",
      "336 0.04842192958882023 tensor(-3.7844, grad_fn=<MeanBackward0>) tensor(0.0436, grad_fn=<SumBackward1>)\n",
      "338 0.0460914270357431 tensor(-3.7906, grad_fn=<MeanBackward0>) tensor(0.0434, grad_fn=<SumBackward1>)\n",
      "340 0.04637573233001884 tensor(-3.7946, grad_fn=<MeanBackward0>) tensor(0.0434, grad_fn=<SumBackward1>)\n",
      "342 0.048603762429454474 tensor(-3.7971, grad_fn=<MeanBackward0>) tensor(0.0436, grad_fn=<SumBackward1>)\n",
      "344 0.05220948669712444 tensor(-3.7981, grad_fn=<MeanBackward0>) tensor(0.0440, grad_fn=<SumBackward1>)\n",
      "346 0.05727815103466812 tensor(-3.7979, grad_fn=<MeanBackward0>) tensor(0.0445, grad_fn=<SumBackward1>)\n",
      "348 0.06263714055361465 tensor(-3.7970, grad_fn=<MeanBackward0>) tensor(0.0450, grad_fn=<SumBackward1>)\n",
      "350 0.06712308519215267 tensor(-3.7965, grad_fn=<MeanBackward0>) tensor(0.0454, grad_fn=<SumBackward1>)\n",
      "352 0.0700526740123623 tensor(-3.7972, grad_fn=<MeanBackward0>) tensor(0.0457, grad_fn=<SumBackward1>)\n",
      "354 0.07032184896533193 tensor(-3.8001, grad_fn=<MeanBackward0>) tensor(0.0457, grad_fn=<SumBackward1>)\n",
      "356 0.06835248589088957 tensor(-3.8052, grad_fn=<MeanBackward0>) tensor(0.0455, grad_fn=<SumBackward1>)\n",
      "358 0.06432031711905403 tensor(-3.8120, grad_fn=<MeanBackward0>) tensor(0.0451, grad_fn=<SumBackward1>)\n",
      "360 0.059715614082235975 tensor(-3.8193, grad_fn=<MeanBackward0>) tensor(0.0447, grad_fn=<SumBackward1>)\n",
      "362 0.05550220370868049 tensor(-3.8265, grad_fn=<MeanBackward0>) tensor(0.0443, grad_fn=<SumBackward1>)\n",
      "364 0.051786132760010775 tensor(-3.8331, grad_fn=<MeanBackward0>) tensor(0.0439, grad_fn=<SumBackward1>)\n",
      "366 0.048558102660575135 tensor(-3.8390, grad_fn=<MeanBackward0>) tensor(0.0436, grad_fn=<SumBackward1>)\n",
      "368 0.04621193227626984 tensor(-3.8441, grad_fn=<MeanBackward0>) tensor(0.0434, grad_fn=<SumBackward1>)\n"
     ]
    },
    {
     "name": "stdout",
     "output_type": "stream",
     "text": [
      "370 0.044697393173878025 tensor(-3.8487, grad_fn=<MeanBackward0>) tensor(0.0433, grad_fn=<SumBackward1>)\n",
      "372 0.043792528890083324 tensor(-3.8527, grad_fn=<MeanBackward0>) tensor(0.0432, grad_fn=<SumBackward1>)\n",
      "374 0.043093603869927465 tensor(-3.8562, grad_fn=<MeanBackward0>) tensor(0.0431, grad_fn=<SumBackward1>)\n",
      "376 0.04301139478634778 tensor(-3.8595, grad_fn=<MeanBackward0>) tensor(0.0431, grad_fn=<SumBackward1>)\n",
      "378 0.04306729373824243 tensor(-3.8626, grad_fn=<MeanBackward0>) tensor(0.0431, grad_fn=<SumBackward1>)\n",
      "380 0.04316288632088151 tensor(-3.8657, grad_fn=<MeanBackward0>) tensor(0.0431, grad_fn=<SumBackward1>)\n",
      "382 0.043065116904058086 tensor(-3.8689, grad_fn=<MeanBackward0>) tensor(0.0431, grad_fn=<SumBackward1>)\n",
      "384 0.04275802203708683 tensor(-3.8719, grad_fn=<MeanBackward0>) tensor(0.0431, grad_fn=<SumBackward1>)\n",
      "386 0.04217127116366568 tensor(-3.8752, grad_fn=<MeanBackward0>) tensor(0.0431, grad_fn=<SumBackward1>)\n",
      "388 0.04162781510346685 tensor(-3.8787, grad_fn=<MeanBackward0>) tensor(0.0430, grad_fn=<SumBackward1>)\n",
      "390 0.04082690137059933 tensor(-3.8823, grad_fn=<MeanBackward0>) tensor(0.0429, grad_fn=<SumBackward1>)\n",
      "392 0.03952198333781243 tensor(-3.8862, grad_fn=<MeanBackward0>) tensor(0.0428, grad_fn=<SumBackward1>)\n",
      "394 0.03837409298575653 tensor(-3.8901, grad_fn=<MeanBackward0>) tensor(0.0427, grad_fn=<SumBackward1>)\n",
      "396 0.037111421660843885 tensor(-3.8940, grad_fn=<MeanBackward0>) tensor(0.0426, grad_fn=<SumBackward1>)\n",
      "398 0.03586818059661383 tensor(-3.8979, grad_fn=<MeanBackward0>) tensor(0.0425, grad_fn=<SumBackward1>)\n",
      "400 0.03455479709755443 tensor(-3.9016, grad_fn=<MeanBackward0>) tensor(0.0424, grad_fn=<SumBackward1>)\n",
      "402 0.033472453641494225 tensor(-3.9052, grad_fn=<MeanBackward0>) tensor(0.0423, grad_fn=<SumBackward1>)\n",
      "404 0.03254899220639614 tensor(-3.9088, grad_fn=<MeanBackward0>) tensor(0.0422, grad_fn=<SumBackward1>)\n",
      "406 0.031787100241870495 tensor(-3.9124, grad_fn=<MeanBackward0>) tensor(0.0421, grad_fn=<SumBackward1>)\n",
      "408 0.031074630475678586 tensor(-3.9157, grad_fn=<MeanBackward0>) tensor(0.0420, grad_fn=<SumBackward1>)\n",
      "410 0.030724294544477313 tensor(-3.9189, grad_fn=<MeanBackward0>) tensor(0.0420, grad_fn=<SumBackward1>)\n",
      "412 0.03020865358774524 tensor(-3.9221, grad_fn=<MeanBackward0>) tensor(0.0419, grad_fn=<SumBackward1>)\n",
      "460 0.030153775866702506 tensor(-3.9827, grad_fn=<MeanBackward0>) tensor(0.0419, grad_fn=<SumBackward1>)\n",
      "462 0.04211545283525936 tensor(-3.9741, grad_fn=<MeanBackward0>) tensor(0.0430, grad_fn=<SumBackward1>)\n",
      "464 0.05202085460897612 tensor(-3.9662, grad_fn=<MeanBackward0>) tensor(0.0440, grad_fn=<SumBackward1>)\n",
      "466 0.054873018005912426 tensor(-3.9648, grad_fn=<MeanBackward0>) tensor(0.0443, grad_fn=<SumBackward1>)\n",
      "468 0.04959032518140287 tensor(-3.9723, grad_fn=<MeanBackward0>) tensor(0.0437, grad_fn=<SumBackward1>)\n",
      "470 0.03928873958613279 tensor(-3.9841, grad_fn=<MeanBackward0>) tensor(0.0427, grad_fn=<SumBackward1>)\n",
      "final loss:  -4.040759563446045\n"
     ]
    }
   ],
   "source": [
    "end2end_model = end2end.train_model(x_train, y_train, n_epoch = 500, hidden_layers = [100, 100, 100], learning_rate = 0.001, exp_decay = .995, calibration_threshold = .03)"
   ]
  },
  {
   "cell_type": "code",
   "execution_count": 4,
   "metadata": {},
   "outputs": [
    {
     "name": "stdout",
     "output_type": "stream",
     "text": [
      "Deep ensemble test MAPE:  0.13007475\n",
      "Deep ensemble test RMSE:  0.09039107\n"
     ]
    },
    {
     "data": {
      "image/png": "[encoded data removed]",
      "text/plain": [
       "<Figure size 432x288 with 1 Axes>"
      ]
     },
     "metadata": {
      "needs_background": "light"
     },
     "output_type": "display_data"
    },
    {
     "name": "stdout",
     "output_type": "stream",
     "text": [
      "Deep ensemble test calibration error when step size is 0.001:  0.1996303335295346\n",
      "Deep ensemble test calibration error when step size is 0.01:  0.020159626584384135\n",
      "Deep ensemble test calibration error when step size is 0.1:  0.0017980725992490735\n"
     ]
    }
   ],
   "source": [
    "mean_pred, var_pred = end2end_model(x_test)\n",
    "mean_pred = mean_pred.detach().numpy()\n",
    "var_pred = var_pred.detach().numpy()\n",
    "\n",
    "print('End2end test MAPE: ', metrics.mape(y_test.detach().numpy(), mean_pred))\n",
    "print('End2end test RMSE: ', metrics.rmse(y_test.detach().numpy(), mean_pred))\n",
    "pcdf = metrics.pcdf(mean_pred.squeeze(1), var_pred.squeeze(1), y_test.detach().numpy().squeeze(1))\n",
    "metrics.draw_pcdf(pcdf)\n",
    "print('End2end test calibration error when step size is 0.001: ', metrics.calibration_error(pcdf, step = 0.001))\n",
    "print('End2end test calibration error when step size is 0.01: ', metrics.calibration_error(pcdf, step = 0.01))\n",
    "print('End2end test calibration error when step size is 0.1: ', metrics.calibration_error(pcdf, step = 0.1))"
   ]
  },
  {
   "cell_type": "code",
   "execution_count": null,
   "metadata": {},
   "outputs": [],
   "source": []
  }
 ],
 "metadata": {
  "kernelspec": {
   "display_name": "Python 3",
   "language": "python",
   "name": "python3"
  },
  "language_info": {
   "codemirror_mode": {
    "name": "ipython",
    "version": 3
   },
   "file_extension": ".py",
   "mimetype": "text/x-python",
   "name": "python",
   "nbconvert_exporter": "python",
   "pygments_lexer": "ipython3",
   "version": "3.7.4"
  }
 },
 "nbformat": 4,
 "nbformat_minor": 2
}
