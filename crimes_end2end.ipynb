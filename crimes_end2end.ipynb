{
 "cells": [
  {
   "cell_type": "code",
   "execution_count": 1,
   "metadata": {},
   "outputs": [],
   "source": [
    "import torch\n",
    "import numpy as np\n",
    "import matplotlib.pyplot as plt\n",
    "\n",
    "from data import data_preprocess\n",
    "from evaluation import metrics\n",
    "from model import end2end, end2end_crps"
   ]
  },
  {
   "cell_type": "code",
   "execution_count": 2,
   "metadata": {},
   "outputs": [],
   "source": [
    "x_train, y_train, x_test, y_test = data_preprocess.data_preprocess('crimes')"
   ]
  },
  {
   "cell_type": "code",
   "execution_count": 3,
   "metadata": {},
   "outputs": [
    {
     "name": "stdout",
     "output_type": "stream",
     "text": [
      "initial loss:  -0.19121165573596954\n",
      "251 0.07610177777777773 tensor(-4.4316, grad_fn=<MeanBackward0>) tensor(0.0497, grad_fn=<MeanBackward0>)\n",
      "253 0.06674044444444441 tensor(-4.4449, grad_fn=<MeanBackward0>) tensor(0.0495, grad_fn=<MeanBackward0>)\n",
      "255 0.05810444444444444 tensor(-4.4621, grad_fn=<MeanBackward0>) tensor(0.0492, grad_fn=<MeanBackward0>)\n",
      "257 0.06120311111111108 tensor(-4.4659, grad_fn=<MeanBackward0>) tensor(0.0492, grad_fn=<MeanBackward0>)\n",
      "259 0.06510977777777774 tensor(-4.4686, grad_fn=<MeanBackward0>) tensor(0.0491, grad_fn=<MeanBackward0>)\n",
      "261 0.0695964444444444 tensor(-4.4729, grad_fn=<MeanBackward0>) tensor(0.0491, grad_fn=<MeanBackward0>)\n",
      "262 0.033412888888888916 tensor(-4.4746, grad_fn=<MeanBackward0>) tensor(0.0491, grad_fn=<MeanBackward0>)\n",
      "263 0.0805804444444444 tensor(-4.4677, grad_fn=<MeanBackward0>) tensor(0.0493, grad_fn=<MeanBackward0>)\n",
      "264 0.0376377777777778 tensor(-4.4723, grad_fn=<MeanBackward0>) tensor(0.0493, grad_fn=<MeanBackward0>)\n",
      "265 0.07876444444444443 tensor(-4.4714, grad_fn=<MeanBackward0>) tensor(0.0493, grad_fn=<MeanBackward0>)\n",
      "266 0.03249422222222226 tensor(-4.4881, grad_fn=<MeanBackward0>) tensor(0.0491, grad_fn=<MeanBackward0>)\n",
      "267 0.06471066666666664 tensor(-4.4926, grad_fn=<MeanBackward0>) tensor(0.0490, grad_fn=<MeanBackward0>)\n",
      "269 0.056918666666666624 tensor(-4.5132, grad_fn=<MeanBackward0>) tensor(0.0486, grad_fn=<MeanBackward0>)\n",
      "271 0.05808266666666666 tensor(-4.5171, grad_fn=<MeanBackward0>) tensor(0.0485, grad_fn=<MeanBackward0>)\n",
      "273 0.06591066666666666 tensor(-4.5108, grad_fn=<MeanBackward0>) tensor(0.0486, grad_fn=<MeanBackward0>)\n",
      "275 0.06846622222222216 tensor(-4.5161, grad_fn=<MeanBackward0>) tensor(0.0485, grad_fn=<MeanBackward0>)\n",
      "276 0.030669333333333357 tensor(-4.5215, grad_fn=<MeanBackward0>) tensor(0.0484, grad_fn=<MeanBackward0>)\n",
      "277 0.07311644444444441 tensor(-4.5188, grad_fn=<MeanBackward0>) tensor(0.0483, grad_fn=<MeanBackward0>)\n",
      "278 0.035752000000000006 tensor(-4.5176, grad_fn=<MeanBackward0>) tensor(0.0483, grad_fn=<MeanBackward0>)\n",
      "279 0.07663466666666663 tensor(-4.5131, grad_fn=<MeanBackward0>) tensor(0.0483, grad_fn=<MeanBackward0>)\n",
      "280 0.036010666666666705 tensor(-4.5166, grad_fn=<MeanBackward0>) tensor(0.0482, grad_fn=<MeanBackward0>)\n",
      "281 0.07075866666666662 tensor(-4.5186, grad_fn=<MeanBackward0>) tensor(0.0482, grad_fn=<MeanBackward0>)\n",
      "283 0.05934755555555553 tensor(-4.5397, grad_fn=<MeanBackward0>) tensor(0.0479, grad_fn=<MeanBackward0>)\n",
      "285 0.05571555555555552 tensor(-4.5508, grad_fn=<MeanBackward0>) tensor(0.0477, grad_fn=<MeanBackward0>)\n",
      "287 0.059099555555555544 tensor(-4.5479, grad_fn=<MeanBackward0>) tensor(0.0478, grad_fn=<MeanBackward0>)\n",
      "289 0.062261777777777735 tensor(-4.5516, grad_fn=<MeanBackward0>) tensor(0.0477, grad_fn=<MeanBackward0>)\n",
      "291 0.06419199999999999 tensor(-4.5604, grad_fn=<MeanBackward0>) tensor(0.0476, grad_fn=<MeanBackward0>)\n",
      "292 0.03217022222222225 tensor(-4.5637, grad_fn=<MeanBackward0>) tensor(0.0476, grad_fn=<MeanBackward0>)\n",
      "293 0.07330266666666663 tensor(-4.5554, grad_fn=<MeanBackward0>) tensor(0.0477, grad_fn=<MeanBackward0>)\n",
      "294 0.03783155555555558 tensor(-4.5564, grad_fn=<MeanBackward0>) tensor(0.0478, grad_fn=<MeanBackward0>)\n",
      "295 0.08055466666666664 tensor(-4.5501, grad_fn=<MeanBackward0>) tensor(0.0478, grad_fn=<MeanBackward0>)\n",
      "296 0.0367457777777778 tensor(-4.5621, grad_fn=<MeanBackward0>) tensor(0.0479, grad_fn=<MeanBackward0>)\n",
      "297 0.06768266666666665 tensor(-4.5680, grad_fn=<MeanBackward0>) tensor(0.0476, grad_fn=<MeanBackward0>)\n",
      "299 0.05414666666666664 tensor(-4.5962, grad_fn=<MeanBackward0>) tensor(0.0472, grad_fn=<MeanBackward0>)\n",
      "301 0.056928888888888855 tensor(-4.5977, grad_fn=<MeanBackward0>) tensor(0.0472, grad_fn=<MeanBackward0>)\n",
      "303 0.06129688888888885 tensor(-4.5900, grad_fn=<MeanBackward0>) tensor(0.0473, grad_fn=<MeanBackward0>)\n",
      "305 0.0641515555555555 tensor(-4.5979, grad_fn=<MeanBackward0>) tensor(0.0471, grad_fn=<MeanBackward0>)\n",
      "307 0.06370177777777773 tensor(-4.6079, grad_fn=<MeanBackward0>) tensor(0.0469, grad_fn=<MeanBackward0>)\n",
      "308 0.03224488888888892 tensor(-4.6065, grad_fn=<MeanBackward0>) tensor(0.0470, grad_fn=<MeanBackward0>)\n",
      "309 0.07249911111111107 tensor(-4.5959, grad_fn=<MeanBackward0>) tensor(0.0470, grad_fn=<MeanBackward0>)\n",
      "310 0.03975288888888892 tensor(-4.5894, grad_fn=<MeanBackward0>) tensor(0.0471, grad_fn=<MeanBackward0>)\n",
      "311 0.0760773333333333 tensor(-4.5840, grad_fn=<MeanBackward0>) tensor(0.0470, grad_fn=<MeanBackward0>)\n",
      "312 0.03222488888888891 tensor(-4.6012, grad_fn=<MeanBackward0>) tensor(0.0468, grad_fn=<MeanBackward0>)\n",
      "313 0.06084266666666663 tensor(-4.6108, grad_fn=<MeanBackward0>) tensor(0.0466, grad_fn=<MeanBackward0>)\n",
      "315 0.051995999999999994 tensor(-4.6309, grad_fn=<MeanBackward0>) tensor(0.0464, grad_fn=<MeanBackward0>)\n",
      "317 0.05726888888888889 tensor(-4.6268, grad_fn=<MeanBackward0>) tensor(0.0464, grad_fn=<MeanBackward0>)\n",
      "319 0.06218622222222218 tensor(-4.6204, grad_fn=<MeanBackward0>) tensor(0.0465, grad_fn=<MeanBackward0>)\n",
      "321 0.06022399999999998 tensor(-4.6341, grad_fn=<MeanBackward0>) tensor(0.0464, grad_fn=<MeanBackward0>)\n",
      "323 0.06164177777777775 tensor(-4.6457, grad_fn=<MeanBackward0>) tensor(0.0463, grad_fn=<MeanBackward0>)\n",
      "324 0.03106755555555558 tensor(-4.6470, grad_fn=<MeanBackward0>) tensor(0.0464, grad_fn=<MeanBackward0>)\n",
      "325 0.07361999999999996 tensor(-4.6348, grad_fn=<MeanBackward0>) tensor(0.0464, grad_fn=<MeanBackward0>)\n",
      "326 0.03968355555555558 tensor(-4.6357, grad_fn=<MeanBackward0>) tensor(0.0466, grad_fn=<MeanBackward0>)\n",
      "327 0.07623022222222219 tensor(-4.6311, grad_fn=<MeanBackward0>) tensor(0.0465, grad_fn=<MeanBackward0>)\n",
      "328 0.03286800000000002 tensor(-4.6510, grad_fn=<MeanBackward0>) tensor(0.0465, grad_fn=<MeanBackward0>)\n",
      "329 0.05985866666666665 tensor(-4.6575, grad_fn=<MeanBackward0>) tensor(0.0462, grad_fn=<MeanBackward0>)\n",
      "331 0.05245999999999997 tensor(-4.6737, grad_fn=<MeanBackward0>) tensor(0.0460, grad_fn=<MeanBackward0>)\n",
      "333 0.05653333333333329 tensor(-4.6723, grad_fn=<MeanBackward0>) tensor(0.0460, grad_fn=<MeanBackward0>)\n",
      "335 0.0582653333333333 tensor(-4.6734, grad_fn=<MeanBackward0>) tensor(0.0459, grad_fn=<MeanBackward0>)\n",
      "337 0.06275022222222217 tensor(-4.6806, grad_fn=<MeanBackward0>) tensor(0.0458, grad_fn=<MeanBackward0>)\n",
      "338 0.030885333333333348 tensor(-4.6805, grad_fn=<MeanBackward0>) tensor(0.0458, grad_fn=<MeanBackward0>)\n",
      "339 0.06970488888888884 tensor(-4.6704, grad_fn=<MeanBackward0>) tensor(0.0458, grad_fn=<MeanBackward0>)\n",
      "340 0.03702311111111114 tensor(-4.6696, grad_fn=<MeanBackward0>) tensor(0.0459, grad_fn=<MeanBackward0>)\n",
      "341 0.0734493333333333 tensor(-4.6627, grad_fn=<MeanBackward0>) tensor(0.0458, grad_fn=<MeanBackward0>)\n",
      "342 0.035927555555555574 tensor(-4.6710, grad_fn=<MeanBackward0>) tensor(0.0458, grad_fn=<MeanBackward0>)\n",
      "343 0.06170355555555553 tensor(-4.6772, grad_fn=<MeanBackward0>) tensor(0.0456, grad_fn=<MeanBackward0>)\n",
      "345 0.04945066666666665 tensor(-4.7001, grad_fn=<MeanBackward0>) tensor(0.0453, grad_fn=<MeanBackward0>)\n",
      "347 0.049648444444444405 tensor(-4.7075, grad_fn=<MeanBackward0>) tensor(0.0453, grad_fn=<MeanBackward0>)\n",
      "349 0.056396444444444443 tensor(-4.6988, grad_fn=<MeanBackward0>) tensor(0.0453, grad_fn=<MeanBackward0>)\n",
      "351 0.06343066666666664 tensor(-4.6961, grad_fn=<MeanBackward0>) tensor(0.0453, grad_fn=<MeanBackward0>)\n",
      "352 0.032056888888888926 tensor(-4.7058, grad_fn=<MeanBackward0>) tensor(0.0454, grad_fn=<MeanBackward0>)\n",
      "353 0.06475066666666665 tensor(-4.7061, grad_fn=<MeanBackward0>) tensor(0.0453, grad_fn=<MeanBackward0>)\n",
      "354 0.03284000000000003 tensor(-4.7133, grad_fn=<MeanBackward0>) tensor(0.0454, grad_fn=<MeanBackward0>)\n",
      "355 0.06624888888888884 tensor(-4.7089, grad_fn=<MeanBackward0>) tensor(0.0453, grad_fn=<MeanBackward0>)\n",
      "356 0.034854666666666714 tensor(-4.7146, grad_fn=<MeanBackward0>) tensor(0.0455, grad_fn=<MeanBackward0>)\n",
      "357 0.0640982222222222 tensor(-4.7089, grad_fn=<MeanBackward0>) tensor(0.0453, grad_fn=<MeanBackward0>)\n",
      "358 0.03137555555555558 tensor(-4.7215, grad_fn=<MeanBackward0>) tensor(0.0454, grad_fn=<MeanBackward0>)\n",
      "359 0.05802355555555555 tensor(-4.7219, grad_fn=<MeanBackward0>) tensor(0.0452, grad_fn=<MeanBackward0>)\n"
     ]
    },
    {
     "name": "stdout",
     "output_type": "stream",
     "text": [
      "361 0.049748444444444415 tensor(-4.7418, grad_fn=<MeanBackward0>) tensor(0.0449, grad_fn=<MeanBackward0>)\n",
      "363 0.050797777777777754 tensor(-4.7451, grad_fn=<MeanBackward0>) tensor(0.0449, grad_fn=<MeanBackward0>)\n",
      "365 0.057271999999999976 tensor(-4.7385, grad_fn=<MeanBackward0>) tensor(0.0449, grad_fn=<MeanBackward0>)\n",
      "367 0.0609751111111111 tensor(-4.7409, grad_fn=<MeanBackward0>) tensor(0.0448, grad_fn=<MeanBackward0>)\n",
      "369 0.06021555555555554 tensor(-4.7441, grad_fn=<MeanBackward0>) tensor(0.0447, grad_fn=<MeanBackward0>)\n",
      "370 0.03254355555555557 tensor(-4.7416, grad_fn=<MeanBackward0>) tensor(0.0448, grad_fn=<MeanBackward0>)\n",
      "371 0.06275066666666665 tensor(-4.7340, grad_fn=<MeanBackward0>) tensor(0.0446, grad_fn=<MeanBackward0>)\n",
      "372 0.032254666666666675 tensor(-4.7419, grad_fn=<MeanBackward0>) tensor(0.0447, grad_fn=<MeanBackward0>)\n",
      "373 0.05836622222222218 tensor(-4.7431, grad_fn=<MeanBackward0>) tensor(0.0445, grad_fn=<MeanBackward0>)\n",
      "375 0.05062799999999995 tensor(-4.7614, grad_fn=<MeanBackward0>) tensor(0.0444, grad_fn=<MeanBackward0>)\n",
      "377 0.051135555555555545 tensor(-4.7664, grad_fn=<MeanBackward0>) tensor(0.0444, grad_fn=<MeanBackward0>)\n",
      "379 0.05338311111111109 tensor(-4.7658, grad_fn=<MeanBackward0>) tensor(0.0444, grad_fn=<MeanBackward0>)\n",
      "381 0.05226488888888888 tensor(-4.7777, grad_fn=<MeanBackward0>) tensor(0.0443, grad_fn=<MeanBackward0>)\n",
      "383 0.05610177777777775 tensor(-4.7828, grad_fn=<MeanBackward0>) tensor(0.0442, grad_fn=<MeanBackward0>)\n",
      "385 0.06703466666666663 tensor(-4.7661, grad_fn=<MeanBackward0>) tensor(0.0443, grad_fn=<MeanBackward0>)\n",
      "386 0.03853644444444448 tensor(-4.7687, grad_fn=<MeanBackward0>) tensor(0.0446, grad_fn=<MeanBackward0>)\n",
      "387 0.0687315555555555 tensor(-4.7667, grad_fn=<MeanBackward0>) tensor(0.0444, grad_fn=<MeanBackward0>)\n",
      "388 0.03507200000000002 tensor(-4.7791, grad_fn=<MeanBackward0>) tensor(0.0444, grad_fn=<MeanBackward0>)\n",
      "389 0.05817688888888887 tensor(-4.7820, grad_fn=<MeanBackward0>) tensor(0.0442, grad_fn=<MeanBackward0>)\n",
      "391 0.04690533333333331 tensor(-4.8051, grad_fn=<MeanBackward0>) tensor(0.0439, grad_fn=<MeanBackward0>)\n",
      "393 0.047201777777777766 tensor(-4.8156, grad_fn=<MeanBackward0>) tensor(0.0438, grad_fn=<MeanBackward0>)\n",
      "395 0.0568502222222222 tensor(-4.8052, grad_fn=<MeanBackward0>) tensor(0.0439, grad_fn=<MeanBackward0>)\n",
      "396 0.030617333333333364 tensor(-4.8000, grad_fn=<MeanBackward0>) tensor(0.0441, grad_fn=<MeanBackward0>)\n",
      "397 0.06788711111111106 tensor(-4.7879, grad_fn=<MeanBackward0>) tensor(0.0440, grad_fn=<MeanBackward0>)\n",
      "398 0.03792933333333335 tensor(-4.7912, grad_fn=<MeanBackward0>) tensor(0.0441, grad_fn=<MeanBackward0>)\n",
      "399 0.06521688888888887 tensor(-4.7929, grad_fn=<MeanBackward0>) tensor(0.0438, grad_fn=<MeanBackward0>)\n",
      "400 0.03248755555555557 tensor(-4.8094, grad_fn=<MeanBackward0>) tensor(0.0439, grad_fn=<MeanBackward0>)\n",
      "401 0.05326444444444442 tensor(-4.8174, grad_fn=<MeanBackward0>) tensor(0.0436, grad_fn=<MeanBackward0>)\n",
      "403 0.052305777777777736 tensor(-4.8230, grad_fn=<MeanBackward0>) tensor(0.0436, grad_fn=<MeanBackward0>)\n",
      "405 0.05461866666666664 tensor(-4.8203, grad_fn=<MeanBackward0>) tensor(0.0436, grad_fn=<MeanBackward0>)\n",
      "407 0.052567555555555534 tensor(-4.8288, grad_fn=<MeanBackward0>) tensor(0.0435, grad_fn=<MeanBackward0>)\n",
      "409 0.04925688888888889 tensor(-4.8408, grad_fn=<MeanBackward0>) tensor(0.0434, grad_fn=<MeanBackward0>)\n",
      "411 0.05424711111111109 tensor(-4.8385, grad_fn=<MeanBackward0>) tensor(0.0433, grad_fn=<MeanBackward0>)\n",
      "412 0.030893333333333363 tensor(-4.8355, grad_fn=<MeanBackward0>) tensor(0.0435, grad_fn=<MeanBackward0>)\n",
      "413 0.06629822222222218 tensor(-4.8242, grad_fn=<MeanBackward0>) tensor(0.0434, grad_fn=<MeanBackward0>)\n",
      "414 0.03731422222222225 tensor(-4.8290, grad_fn=<MeanBackward0>) tensor(0.0437, grad_fn=<MeanBackward0>)\n",
      "415 0.06424222222222217 tensor(-4.8297, grad_fn=<MeanBackward0>) tensor(0.0435, grad_fn=<MeanBackward0>)\n",
      "416 0.034957333333333375 tensor(-4.8373, grad_fn=<MeanBackward0>) tensor(0.0437, grad_fn=<MeanBackward0>)\n",
      "417 0.05741244444444443 tensor(-4.8391, grad_fn=<MeanBackward0>) tensor(0.0434, grad_fn=<MeanBackward0>)\n",
      "419 0.04526044444444443 tensor(-4.8598, grad_fn=<MeanBackward0>) tensor(0.0432, grad_fn=<MeanBackward0>)\n",
      "421 0.04433999999999998 tensor(-4.8680, grad_fn=<MeanBackward0>) tensor(0.0431, grad_fn=<MeanBackward0>)\n",
      "423 0.04675288888888888 tensor(-4.8618, grad_fn=<MeanBackward0>) tensor(0.0432, grad_fn=<MeanBackward0>)\n",
      "425 0.048845333333333324 tensor(-4.8623, grad_fn=<MeanBackward0>) tensor(0.0432, grad_fn=<MeanBackward0>)\n",
      "427 0.04587155555555554 tensor(-4.8754, grad_fn=<MeanBackward0>) tensor(0.0430, grad_fn=<MeanBackward0>)\n",
      "429 0.048697777777777784 tensor(-4.8820, grad_fn=<MeanBackward0>) tensor(0.0429, grad_fn=<MeanBackward0>)\n",
      "431 0.05749111111111109 tensor(-4.8660, grad_fn=<MeanBackward0>) tensor(0.0430, grad_fn=<MeanBackward0>)\n",
      "432 0.036588888888888914 tensor(-4.8517, grad_fn=<MeanBackward0>) tensor(0.0433, grad_fn=<MeanBackward0>)\n",
      "433 0.06296666666666666 tensor(-4.8442, grad_fn=<MeanBackward0>) tensor(0.0431, grad_fn=<MeanBackward0>)\n",
      "434 0.03021644444444448 tensor(-4.8635, grad_fn=<MeanBackward0>) tensor(0.0430, grad_fn=<MeanBackward0>)\n",
      "435 0.0459635555555555 tensor(-4.8742, grad_fn=<MeanBackward0>) tensor(0.0427, grad_fn=<MeanBackward0>)\n",
      "437 0.039911999999999975 tensor(-4.8927, grad_fn=<MeanBackward0>) tensor(0.0426, grad_fn=<MeanBackward0>)\n",
      "439 0.042217777777777764 tensor(-4.8966, grad_fn=<MeanBackward0>) tensor(0.0425, grad_fn=<MeanBackward0>)\n",
      "441 0.04700977777777774 tensor(-4.8898, grad_fn=<MeanBackward0>) tensor(0.0426, grad_fn=<MeanBackward0>)\n",
      "443 0.05383911111111108 tensor(-4.8779, grad_fn=<MeanBackward0>) tensor(0.0428, grad_fn=<MeanBackward0>)\n",
      "444 0.030205777777777824 tensor(-4.8922, grad_fn=<MeanBackward0>) tensor(0.0428, grad_fn=<MeanBackward0>)\n",
      "445 0.051486666666666625 tensor(-4.8985, grad_fn=<MeanBackward0>) tensor(0.0426, grad_fn=<MeanBackward0>)\n",
      "447 0.048617333333333325 tensor(-4.9171, grad_fn=<MeanBackward0>) tensor(0.0424, grad_fn=<MeanBackward0>)\n",
      "449 0.05777911111111109 tensor(-4.9050, grad_fn=<MeanBackward0>) tensor(0.0425, grad_fn=<MeanBackward0>)\n",
      "450 0.03387155555555557 tensor(-4.9046, grad_fn=<MeanBackward0>) tensor(0.0428, grad_fn=<MeanBackward0>)\n",
      "451 0.062405777777777734 tensor(-4.8964, grad_fn=<MeanBackward0>) tensor(0.0426, grad_fn=<MeanBackward0>)\n",
      "452 0.035438666666666695 tensor(-4.9068, grad_fn=<MeanBackward0>) tensor(0.0428, grad_fn=<MeanBackward0>)\n",
      "453 0.05699199999999996 tensor(-4.9085, grad_fn=<MeanBackward0>) tensor(0.0425, grad_fn=<MeanBackward0>)\n",
      "454 0.030506222222222247 tensor(-4.9194, grad_fn=<MeanBackward0>) tensor(0.0426, grad_fn=<MeanBackward0>)\n",
      "455 0.05185022222222218 tensor(-4.9229, grad_fn=<MeanBackward0>) tensor(0.0423, grad_fn=<MeanBackward0>)\n",
      "457 0.04637466666666666 tensor(-4.9343, grad_fn=<MeanBackward0>) tensor(0.0421, grad_fn=<MeanBackward0>)\n",
      "459 0.04963066666666664 tensor(-4.9344, grad_fn=<MeanBackward0>) tensor(0.0421, grad_fn=<MeanBackward0>)\n",
      "461 0.05375644444444442 tensor(-4.9263, grad_fn=<MeanBackward0>) tensor(0.0421, grad_fn=<MeanBackward0>)\n",
      "462 0.03166755555555558 tensor(-4.9278, grad_fn=<MeanBackward0>) tensor(0.0423, grad_fn=<MeanBackward0>)\n",
      "463 0.05751511111111109 tensor(-4.9250, grad_fn=<MeanBackward0>) tensor(0.0421, grad_fn=<MeanBackward0>)\n",
      "464 0.03081733333333336 tensor(-4.9361, grad_fn=<MeanBackward0>) tensor(0.0422, grad_fn=<MeanBackward0>)\n",
      "465 0.05346711111111108 tensor(-4.9395, grad_fn=<MeanBackward0>) tensor(0.0420, grad_fn=<MeanBackward0>)\n",
      "467 0.051553333333333305 tensor(-4.9471, grad_fn=<MeanBackward0>) tensor(0.0420, grad_fn=<MeanBackward0>)\n",
      "469 0.0540182222222222 tensor(-4.9454, grad_fn=<MeanBackward0>) tensor(0.0420, grad_fn=<MeanBackward0>)\n",
      "470 0.03067955555555559 tensor(-4.9489, grad_fn=<MeanBackward0>) tensor(0.0422, grad_fn=<MeanBackward0>)\n",
      "471 0.05549466666666666 tensor(-4.9451, grad_fn=<MeanBackward0>) tensor(0.0420, grad_fn=<MeanBackward0>)\n",
      "473 0.05199733333333333 tensor(-4.9531, grad_fn=<MeanBackward0>) tensor(0.0419, grad_fn=<MeanBackward0>)\n",
      "475 0.05038133333333335 tensor(-4.9624, grad_fn=<MeanBackward0>) tensor(0.0418, grad_fn=<MeanBackward0>)\n"
     ]
    },
    {
     "name": "stdout",
     "output_type": "stream",
     "text": [
      "477 0.05087199999999997 tensor(-4.9663, grad_fn=<MeanBackward0>) tensor(0.0418, grad_fn=<MeanBackward0>)\n",
      "479 0.05330133333333332 tensor(-4.9665, grad_fn=<MeanBackward0>) tensor(0.0418, grad_fn=<MeanBackward0>)\n",
      "480 0.030068000000000008 tensor(-4.9678, grad_fn=<MeanBackward0>) tensor(0.0419, grad_fn=<MeanBackward0>)\n",
      "481 0.055771999999999954 tensor(-4.9616, grad_fn=<MeanBackward0>) tensor(0.0417, grad_fn=<MeanBackward0>)\n",
      "482 0.03264711111111115 tensor(-4.9639, grad_fn=<MeanBackward0>) tensor(0.0419, grad_fn=<MeanBackward0>)\n",
      "483 0.053979555555555545 tensor(-4.9633, grad_fn=<MeanBackward0>) tensor(0.0417, grad_fn=<MeanBackward0>)\n",
      "485 0.045245333333333304 tensor(-4.9801, grad_fn=<MeanBackward0>) tensor(0.0415, grad_fn=<MeanBackward0>)\n",
      "487 0.04248933333333332 tensor(-4.9873, grad_fn=<MeanBackward0>) tensor(0.0414, grad_fn=<MeanBackward0>)\n",
      "489 0.04308977777777774 tensor(-4.9862, grad_fn=<MeanBackward0>) tensor(0.0414, grad_fn=<MeanBackward0>)\n",
      "491 0.04343111111111109 tensor(-4.9841, grad_fn=<MeanBackward0>) tensor(0.0414, grad_fn=<MeanBackward0>)\n",
      "493 0.04366044444444442 tensor(-4.9888, grad_fn=<MeanBackward0>) tensor(0.0414, grad_fn=<MeanBackward0>)\n",
      "495 0.043372888888888864 tensor(-4.9988, grad_fn=<MeanBackward0>) tensor(0.0413, grad_fn=<MeanBackward0>)\n",
      "497 0.04311911111111107 tensor(-5.0059, grad_fn=<MeanBackward0>) tensor(0.0413, grad_fn=<MeanBackward0>)\n",
      "499 0.05151066666666665 tensor(-4.9985, grad_fn=<MeanBackward0>) tensor(0.0414, grad_fn=<MeanBackward0>)\n",
      "final loss:  -4.998498916625977\n"
     ]
    }
   ],
   "source": [
    "end2end_model = end2end_crps.train_model(x_train, y_train, n_epoch = 500, num_models = 5, hidden_layers = [50, 50], learning_rate = 0.001, tanh = True, calibration_threshold = .03, exp_decay = .998)"
   ]
  },
  {
   "cell_type": "code",
   "execution_count": 4,
   "metadata": {},
   "outputs": [
    {
     "name": "stdout",
     "output_type": "stream",
     "text": [
      "End2end test MAPE:  0.6277194\n",
      "End2end test RMSE:  0.13675535\n",
      "End2end test NLLK:  5.740222\n",
      "End2end test CRPS:  tensor(0.0696)\n"
     ]
    },
    {
     "data": {
      "image/png": "[encoded data removed]",
      "text/plain": [
       "<Figure size 432x288 with 1 Axes>"
      ]
     },
     "metadata": {
      "needs_background": "light"
     },
     "output_type": "display_data"
    },
    {
     "name": "stdout",
     "output_type": "stream",
     "text": [
      "End2end test calibration error when step size is 0.001:  10.101171095128969\n",
      "End2end test calibration error when step size is 0.01:  0.9993218445663222\n",
      "End2end test calibration error when step size is 0.1:  0.08556155343161256\n"
     ]
    }
   ],
   "source": [
    "mean_pred, var_pred = end2end_model(x_test)\n",
    "mean_pred = mean_pred.detach().numpy()\n",
    "var_pred = var_pred.detach().numpy()\n",
    "sd_pred = np.sqrt(var_pred)\n",
    "\n",
    "print('End2end test MAPE: ', metrics.mape(y_test.detach().numpy(), mean_pred))\n",
    "print('End2end test RMSE: ', metrics.rmse(y_test.detach().numpy(), mean_pred))\n",
    "print('End2end test NLLK: ', metrics.nllk(y_test.detach().numpy(), mean_pred, var_pred))\n",
    "print('End2end test CRPS: ', metrics.CRPSMetric(x = y_test.squeeze(dim = 1), loc = torch.tensor(mean_pred).squeeze(dim = 1), scale = torch.tensor(sd_pred).squeeze(dim = 1)).gaussian_crps().mean())\n",
    "\n",
    "pcdf = metrics.pcdf(mean_pred.squeeze(1), var_pred.squeeze(1), y_test.detach().numpy().squeeze(1))\n",
    "metrics.draw_pcdf(pcdf)\n",
    "print('End2end test calibration error when step size is 0.001: ', metrics.calibration_error(pcdf, step = 0.001))\n",
    "print('End2end test calibration error when step size is 0.01: ', metrics.calibration_error(pcdf, step = 0.01))\n",
    "print('End2end test calibration error when step size is 0.1: ', metrics.calibration_error(pcdf, step = 0.1))"
   ]
  },
  {
   "cell_type": "code",
   "execution_count": null,
   "metadata": {},
   "outputs": [],
   "source": []
  }
 ],
 "metadata": {
  "kernelspec": {
   "display_name": "Python 3",
   "language": "python",
   "name": "python3"
  },
  "language_info": {
   "codemirror_mode": {
    "name": "ipython",
    "version": 3
   },
   "file_extension": ".py",
   "mimetype": "text/x-python",
   "name": "python",
   "nbconvert_exporter": "python",
   "pygments_lexer": "ipython3",
   "version": "3.7.4"
  }
 },
 "nbformat": 4,
 "nbformat_minor": 2
}
