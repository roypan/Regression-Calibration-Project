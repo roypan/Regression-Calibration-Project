{
 "cells": [
  {
   "cell_type": "code",
   "execution_count": 1,
   "metadata": {},
   "outputs": [],
   "source": [
    "import torch\n",
    "import numpy as np\n",
    "import matplotlib.pyplot as plt\n",
    "\n",
    "from data import data_preprocess\n",
    "from evaluation import metrics\n",
    "from model import end2end, end2end_crps"
   ]
  },
  {
   "cell_type": "code",
   "execution_count": 2,
   "metadata": {},
   "outputs": [],
   "source": [
    "x_train, y_train, x_test, y_test = data_preprocess.data_preprocess('cpu')"
   ]
  },
  {
   "cell_type": "code",
   "execution_count": 3,
   "metadata": {},
   "outputs": [],
   "source": [
    "y_mean = torch.mean(y_train)\n",
    "y_sd = torch.std(y_train)\n",
    "\n",
    "y_train = (y_train - y_mean) / y_sd"
   ]
  },
  {
   "cell_type": "code",
   "execution_count": 4,
   "metadata": {},
   "outputs": [
    {
     "name": "stdout",
     "output_type": "stream",
     "text": [
      "initial loss:  1.773250699043274\n",
      "final loss:  -3.372697353363037\n"
     ]
    }
   ],
   "source": [
    "end2end_model = end2end.train_model(x_train, y_train, n_epoch = 500, hidden_layers = [10, 10], learning_rate = 0.001, calibration_threshold = .03)"
   ]
  },
  {
   "cell_type": "code",
   "execution_count": 5,
   "metadata": {},
   "outputs": [
    {
     "name": "stdout",
     "output_type": "stream",
     "text": [
      "End2end test MAPE:  0.35441056\n"
     ]
    },
    {
     "data": {
      "image/png": "[encoded data removed]",
      "text/plain": [
       "<Figure size 432x288 with 1 Axes>"
      ]
     },
     "metadata": {
      "needs_background": "light"
     },
     "output_type": "display_data"
    },
    {
     "name": "stdout",
     "output_type": "stream",
     "text": [
      "End2end test calibration error when step size is 0.001:  2.6823893995978176\n",
      "End2end test calibration error when step size is 0.01:  0.2585162309681128\n",
      "End2end test calibration error when step size is 0.1:  0.02041080149382362\n"
     ]
    }
   ],
   "source": [
    "mean_pred, var_pred = end2end_model(x_test)\n",
    "mean_pred = mean_pred.detach().numpy() * y_sd.detach().numpy()+ y_mean.detach().numpy()\n",
    "var_pred = var_pred.detach().numpy() * torch.pow(y_sd, 2).detach().numpy()\n",
    "\n",
    "print('End2end test MAPE: ', metrics.mape(y_test.detach().numpy(), mean_pred))\n",
    "pcdf = metrics.pcdf(mean_pred.squeeze(1), var_pred.squeeze(1), y_test.detach().numpy().squeeze(1))\n",
    "metrics.draw_pcdf(pcdf)\n",
    "print('End2end test calibration error when step size is 0.001: ', metrics.calibration_error(pcdf, step = 0.001))\n",
    "print('End2end test calibration error when step size is 0.01: ', metrics.calibration_error(pcdf, step = 0.01))\n",
    "print('End2end test calibration error when step size is 0.1: ', metrics.calibration_error(pcdf, step = 0.1))"
   ]
  },
  {
   "cell_type": "code",
   "execution_count": 4,
   "metadata": {},
   "outputs": [
    {
     "name": "stdout",
     "output_type": "stream",
     "text": [
      "initial loss:  0.9993672966957092\n",
      "252 0.042888888888888865 tensor(-2.9741, grad_fn=<MeanBackward0>) tensor(0.1057, grad_fn=<MeanBackward0>)\n",
      "254 0.05119999999999997 tensor(-2.9632, grad_fn=<MeanBackward0>) tensor(0.1059, grad_fn=<MeanBackward0>)\n",
      "256 0.0584444444444444 tensor(-2.9472, grad_fn=<MeanBackward0>) tensor(0.1060, grad_fn=<MeanBackward0>)\n",
      "258 0.07791111111111108 tensor(-2.9211, grad_fn=<MeanBackward0>) tensor(0.1063, grad_fn=<MeanBackward0>)\n",
      "260 0.06595555555555553 tensor(-2.9416, grad_fn=<MeanBackward0>) tensor(0.1059, grad_fn=<MeanBackward0>)\n",
      "262 0.051288888888888856 tensor(-2.9782, grad_fn=<MeanBackward0>) tensor(0.1053, grad_fn=<MeanBackward0>)\n",
      "264 0.04435555555555553 tensor(-3.0060, grad_fn=<MeanBackward0>) tensor(0.1048, grad_fn=<MeanBackward0>)\n",
      "266 0.0417333333333333 tensor(-3.0230, grad_fn=<MeanBackward0>) tensor(0.1045, grad_fn=<MeanBackward0>)\n",
      "268 0.038622222222222204 tensor(-3.0322, grad_fn=<MeanBackward0>) tensor(0.1043, grad_fn=<MeanBackward0>)\n",
      "270 0.04382222222222219 tensor(-3.0297, grad_fn=<MeanBackward0>) tensor(0.1043, grad_fn=<MeanBackward0>)\n",
      "272 0.043955555555555526 tensor(-3.0275, grad_fn=<MeanBackward0>) tensor(0.1043, grad_fn=<MeanBackward0>)\n",
      "274 0.047022222222222194 tensor(-3.0170, grad_fn=<MeanBackward0>) tensor(0.1044, grad_fn=<MeanBackward0>)\n",
      "276 0.06057777777777774 tensor(-2.9933, grad_fn=<MeanBackward0>) tensor(0.1047, grad_fn=<MeanBackward0>)\n",
      "278 0.062266666666666665 tensor(-2.9980, grad_fn=<MeanBackward0>) tensor(0.1046, grad_fn=<MeanBackward0>)\n",
      "280 0.04919999999999999 tensor(-3.0209, grad_fn=<MeanBackward0>) tensor(0.1041, grad_fn=<MeanBackward0>)\n",
      "282 0.0464 tensor(-3.0453, grad_fn=<MeanBackward0>) tensor(0.1037, grad_fn=<MeanBackward0>)\n",
      "284 0.04208888888888887 tensor(-3.0616, grad_fn=<MeanBackward0>) tensor(0.1034, grad_fn=<MeanBackward0>)\n",
      "286 0.03902222222222219 tensor(-3.0718, grad_fn=<MeanBackward0>) tensor(0.1032, grad_fn=<MeanBackward0>)\n",
      "288 0.04537777777777777 tensor(-3.0712, grad_fn=<MeanBackward0>) tensor(0.1032, grad_fn=<MeanBackward0>)\n",
      "290 0.04657777777777776 tensor(-3.0729, grad_fn=<MeanBackward0>) tensor(0.1031, grad_fn=<MeanBackward0>)\n",
      "292 0.049199999999999966 tensor(-3.0712, grad_fn=<MeanBackward0>) tensor(0.1031, grad_fn=<MeanBackward0>)\n",
      "294 0.05164444444444445 tensor(-3.0658, grad_fn=<MeanBackward0>) tensor(0.1031, grad_fn=<MeanBackward0>)\n",
      "296 0.06159999999999999 tensor(-3.0503, grad_fn=<MeanBackward0>) tensor(0.1032, grad_fn=<MeanBackward0>)\n",
      "298 0.05866666666666664 tensor(-3.0527, grad_fn=<MeanBackward0>) tensor(0.1031, grad_fn=<MeanBackward0>)\n",
      "300 0.052755555555555535 tensor(-3.0639, grad_fn=<MeanBackward0>) tensor(0.1029, grad_fn=<MeanBackward0>)\n",
      "302 0.050399999999999986 tensor(-3.0789, grad_fn=<MeanBackward0>) tensor(0.1026, grad_fn=<MeanBackward0>)\n",
      "304 0.04897777777777776 tensor(-3.0855, grad_fn=<MeanBackward0>) tensor(0.1025, grad_fn=<MeanBackward0>)\n",
      "306 0.043155555555555516 tensor(-3.0989, grad_fn=<MeanBackward0>) tensor(0.1023, grad_fn=<MeanBackward0>)\n",
      "308 0.04039999999999997 tensor(-3.1072, grad_fn=<MeanBackward0>) tensor(0.1021, grad_fn=<MeanBackward0>)\n",
      "310 0.04039999999999997 tensor(-3.1126, grad_fn=<MeanBackward0>) tensor(0.1020, grad_fn=<MeanBackward0>)\n",
      "312 0.03999999999999997 tensor(-3.1147, grad_fn=<MeanBackward0>) tensor(0.1019, grad_fn=<MeanBackward0>)\n",
      "314 0.04039999999999997 tensor(-3.1149, grad_fn=<MeanBackward0>) tensor(0.1019, grad_fn=<MeanBackward0>)\n",
      "316 0.046088888888888846 tensor(-3.1114, grad_fn=<MeanBackward0>) tensor(0.1018, grad_fn=<MeanBackward0>)\n",
      "318 0.05115555555555551 tensor(-3.0971, grad_fn=<MeanBackward0>) tensor(0.1020, grad_fn=<MeanBackward0>)\n",
      "320 0.053733333333333314 tensor(-3.0925, grad_fn=<MeanBackward0>) tensor(0.1020, grad_fn=<MeanBackward0>)\n",
      "322 0.051822222222222186 tensor(-3.0949, grad_fn=<MeanBackward0>) tensor(0.1019, grad_fn=<MeanBackward0>)\n",
      "324 0.059022222222222184 tensor(-3.0952, grad_fn=<MeanBackward0>) tensor(0.1018, grad_fn=<MeanBackward0>)\n",
      "326 0.04915555555555552 tensor(-3.1106, grad_fn=<MeanBackward0>) tensor(0.1015, grad_fn=<MeanBackward0>)\n",
      "328 0.04586666666666664 tensor(-3.1239, grad_fn=<MeanBackward0>) tensor(0.1012, grad_fn=<MeanBackward0>)\n",
      "330 0.04333333333333329 tensor(-3.1324, grad_fn=<MeanBackward0>) tensor(0.1010, grad_fn=<MeanBackward0>)\n",
      "332 0.04213333333333329 tensor(-3.1376, grad_fn=<MeanBackward0>) tensor(0.1009, grad_fn=<MeanBackward0>)\n",
      "334 0.04128888888888885 tensor(-3.1411, grad_fn=<MeanBackward0>) tensor(0.1008, grad_fn=<MeanBackward0>)\n",
      "336 0.03986666666666663 tensor(-3.1432, grad_fn=<MeanBackward0>) tensor(0.1007, grad_fn=<MeanBackward0>)\n",
      "338 0.041244444444444424 tensor(-3.1438, grad_fn=<MeanBackward0>) tensor(0.1006, grad_fn=<MeanBackward0>)\n",
      "340 0.044444444444444405 tensor(-3.1414, grad_fn=<MeanBackward0>) tensor(0.1006, grad_fn=<MeanBackward0>)\n",
      "342 0.0484444444444444 tensor(-3.1300, grad_fn=<MeanBackward0>) tensor(0.1008, grad_fn=<MeanBackward0>)\n",
      "344 0.052355555555555516 tensor(-3.1244, grad_fn=<MeanBackward0>) tensor(0.1008, grad_fn=<MeanBackward0>)\n",
      "346 0.05502222222222218 tensor(-3.1227, grad_fn=<MeanBackward0>) tensor(0.1008, grad_fn=<MeanBackward0>)\n",
      "348 0.06039999999999997 tensor(-3.1198, grad_fn=<MeanBackward0>) tensor(0.1008, grad_fn=<MeanBackward0>)\n",
      "350 0.05244444444444442 tensor(-3.1338, grad_fn=<MeanBackward0>) tensor(0.1005, grad_fn=<MeanBackward0>)\n",
      "352 0.0432444444444444 tensor(-3.1471, grad_fn=<MeanBackward0>) tensor(0.1002, grad_fn=<MeanBackward0>)\n",
      "354 0.04146666666666664 tensor(-3.1571, grad_fn=<MeanBackward0>) tensor(0.1000, grad_fn=<MeanBackward0>)\n",
      "356 0.037022222222222206 tensor(-3.1639, grad_fn=<MeanBackward0>) tensor(0.0998, grad_fn=<MeanBackward0>)\n",
      "358 0.03248888888888887 tensor(-3.1680, grad_fn=<MeanBackward0>) tensor(0.0998, grad_fn=<MeanBackward0>)\n",
      "360 0.03142222222222221 tensor(-3.1706, grad_fn=<MeanBackward0>) tensor(0.0996, grad_fn=<MeanBackward0>)\n",
      "362 0.033199999999999986 tensor(-3.1722, grad_fn=<MeanBackward0>) tensor(0.0995, grad_fn=<MeanBackward0>)\n",
      "364 0.03648888888888886 tensor(-3.1720, grad_fn=<MeanBackward0>) tensor(0.0995, grad_fn=<MeanBackward0>)\n",
      "366 0.037111111111111095 tensor(-3.1697, grad_fn=<MeanBackward0>) tensor(0.0995, grad_fn=<MeanBackward0>)\n",
      "368 0.0474222222222222 tensor(-3.1598, grad_fn=<MeanBackward0>) tensor(0.0996, grad_fn=<MeanBackward0>)\n",
      "370 0.049866666666666615 tensor(-3.1546, grad_fn=<MeanBackward0>) tensor(0.0996, grad_fn=<MeanBackward0>)\n",
      "372 0.051199999999999954 tensor(-3.1509, grad_fn=<MeanBackward0>) tensor(0.0996, grad_fn=<MeanBackward0>)\n",
      "374 0.05617777777777774 tensor(-3.1441, grad_fn=<MeanBackward0>) tensor(0.0996, grad_fn=<MeanBackward0>)\n",
      "376 0.05226666666666663 tensor(-3.1552, grad_fn=<MeanBackward0>) tensor(0.0994, grad_fn=<MeanBackward0>)\n",
      "378 0.04693333333333331 tensor(-3.1679, grad_fn=<MeanBackward0>) tensor(0.0991, grad_fn=<MeanBackward0>)\n",
      "380 0.03479999999999997 tensor(-3.1780, grad_fn=<MeanBackward0>) tensor(0.0990, grad_fn=<MeanBackward0>)\n",
      "382 0.03079999999999998 tensor(-3.1851, grad_fn=<MeanBackward0>) tensor(0.0988, grad_fn=<MeanBackward0>)\n",
      "384 0.030399999999999983 tensor(-3.1898, grad_fn=<MeanBackward0>) tensor(0.0987, grad_fn=<MeanBackward0>)\n",
      "394 0.03288888888888886 tensor(-3.1972, grad_fn=<MeanBackward0>) tensor(0.0982, grad_fn=<MeanBackward0>)\n",
      "396 0.041866666666666656 tensor(-3.1864, grad_fn=<MeanBackward0>) tensor(0.0984, grad_fn=<MeanBackward0>)\n",
      "398 0.04897777777777775 tensor(-3.1774, grad_fn=<MeanBackward0>) tensor(0.0984, grad_fn=<MeanBackward0>)\n",
      "400 0.052088888888888865 tensor(-3.1686, grad_fn=<MeanBackward0>) tensor(0.0985, grad_fn=<MeanBackward0>)\n",
      "402 0.06404444444444442 tensor(-3.1611, grad_fn=<MeanBackward0>) tensor(0.0986, grad_fn=<MeanBackward0>)\n",
      "404 0.053866666666666646 tensor(-3.1745, grad_fn=<MeanBackward0>) tensor(0.0983, grad_fn=<MeanBackward0>)\n",
      "406 0.042488888888888875 tensor(-3.1898, grad_fn=<MeanBackward0>) tensor(0.0981, grad_fn=<MeanBackward0>)\n",
      "408 0.03391111111111109 tensor(-3.2023, grad_fn=<MeanBackward0>) tensor(0.0978, grad_fn=<MeanBackward0>)\n",
      "422 0.031199999999999967 tensor(-3.2183, grad_fn=<MeanBackward0>) tensor(0.0973, grad_fn=<MeanBackward0>)\n",
      "424 0.03657777777777775 tensor(-3.2125, grad_fn=<MeanBackward0>) tensor(0.0974, grad_fn=<MeanBackward0>)\n"
     ]
    },
    {
     "name": "stdout",
     "output_type": "stream",
     "text": [
      "426 0.053644444444444425 tensor(-3.1953, grad_fn=<MeanBackward0>) tensor(0.0976, grad_fn=<MeanBackward0>)\n",
      "428 0.05728888888888885 tensor(-3.1846, grad_fn=<MeanBackward0>) tensor(0.0977, grad_fn=<MeanBackward0>)\n",
      "430 0.060799999999999965 tensor(-3.1812, grad_fn=<MeanBackward0>) tensor(0.0977, grad_fn=<MeanBackward0>)\n",
      "432 0.059777777777777735 tensor(-3.1839, grad_fn=<MeanBackward0>) tensor(0.0977, grad_fn=<MeanBackward0>)\n",
      "434 0.04484444444444441 tensor(-3.2048, grad_fn=<MeanBackward0>) tensor(0.0974, grad_fn=<MeanBackward0>)\n",
      "436 0.033377777777777756 tensor(-3.2208, grad_fn=<MeanBackward0>) tensor(0.0971, grad_fn=<MeanBackward0>)\n",
      "456 0.03164444444444443 tensor(-3.2337, grad_fn=<MeanBackward0>) tensor(0.0965, grad_fn=<MeanBackward0>)\n",
      "458 0.04484444444444444 tensor(-3.2133, grad_fn=<MeanBackward0>) tensor(0.0967, grad_fn=<MeanBackward0>)\n",
      "460 0.0572444444444444 tensor(-3.1993, grad_fn=<MeanBackward0>) tensor(0.0968, grad_fn=<MeanBackward0>)\n",
      "462 0.05857777777777775 tensor(-3.1983, grad_fn=<MeanBackward0>) tensor(0.0967, grad_fn=<MeanBackward0>)\n",
      "464 0.06439999999999994 tensor(-3.2052, grad_fn=<MeanBackward0>) tensor(0.0965, grad_fn=<MeanBackward0>)\n",
      "466 0.04644444444444441 tensor(-3.2270, grad_fn=<MeanBackward0>) tensor(0.0961, grad_fn=<MeanBackward0>)\n",
      "468 0.03737777777777777 tensor(-3.2415, grad_fn=<MeanBackward0>) tensor(0.0958, grad_fn=<MeanBackward0>)\n",
      "470 0.03022222222222221 tensor(-3.2494, grad_fn=<MeanBackward0>) tensor(0.0956, grad_fn=<MeanBackward0>)\n",
      "484 0.03653333333333333 tensor(-3.2525, grad_fn=<MeanBackward0>) tensor(0.0953, grad_fn=<MeanBackward0>)\n",
      "486 0.04137777777777778 tensor(-3.2407, grad_fn=<MeanBackward0>) tensor(0.0953, grad_fn=<MeanBackward0>)\n",
      "488 0.054133333333333325 tensor(-3.2249, grad_fn=<MeanBackward0>) tensor(0.0955, grad_fn=<MeanBackward0>)\n",
      "490 0.05813333333333329 tensor(-3.2150, grad_fn=<MeanBackward0>) tensor(0.0956, grad_fn=<MeanBackward0>)\n",
      "492 0.0572444444444444 tensor(-3.2206, grad_fn=<MeanBackward0>) tensor(0.0954, grad_fn=<MeanBackward0>)\n",
      "494 0.04559999999999999 tensor(-3.2375, grad_fn=<MeanBackward0>) tensor(0.0951, grad_fn=<MeanBackward0>)\n",
      "496 0.03724444444444443 tensor(-3.2527, grad_fn=<MeanBackward0>) tensor(0.0949, grad_fn=<MeanBackward0>)\n",
      "498 0.03244444444444443 tensor(-3.2628, grad_fn=<MeanBackward0>) tensor(0.0947, grad_fn=<MeanBackward0>)\n",
      "final loss:  -3.2662956714630127\n"
     ]
    }
   ],
   "source": [
    "end2end_model = end2end_crps.train_model(x_train, y_train, n_epoch = 500, hidden_layers = [10, 10], learning_rate = 0.001, calibration_threshold = .03)"
   ]
  },
  {
   "cell_type": "code",
   "execution_count": 5,
   "metadata": {},
   "outputs": [
    {
     "name": "stdout",
     "output_type": "stream",
     "text": [
      "End2end test MAPE:  0.35897467\n",
      "End2end test RMSE:  37.977978\n"
     ]
    },
    {
     "data": {
      "image/png": "[encoded data removed]",
      "text/plain": [
       "<Figure size 432x288 with 1 Axes>"
      ]
     },
     "metadata": {
      "needs_background": "light"
     },
     "output_type": "display_data"
    },
    {
     "name": "stdout",
     "output_type": "stream",
     "text": [
      "End2end test calibration error when step size is 0.001:  3.853630422292443\n",
      "End2end test calibration error when step size is 0.01:  0.3793205975294454\n",
      "End2end test calibration error when step size is 0.1:  0.042818155702384356\n"
     ]
    }
   ],
   "source": [
    "mean_pred, var_pred = end2end_model(x_test)\n",
    "mean_pred = mean_pred.detach().numpy() * y_sd.detach().numpy()+ y_mean.detach().numpy()\n",
    "var_pred = var_pred.detach().numpy() * torch.pow(y_sd, 2).detach().numpy()\n",
    "\n",
    "print('End2end test MAPE: ', metrics.mape(y_test.detach().numpy(), mean_pred))\n",
    "print('End2end test RMSE: ', metrics.rmse(y_test.detach().numpy(), mean_pred))\n",
    "pcdf = metrics.pcdf(mean_pred.squeeze(1), var_pred.squeeze(1), y_test.detach().numpy().squeeze(1))\n",
    "metrics.draw_pcdf(pcdf)\n",
    "print('End2end test calibration error when step size is 0.001: ', metrics.calibration_error(pcdf, step = 0.001))\n",
    "print('End2end test calibration error when step size is 0.01: ', metrics.calibration_error(pcdf, step = 0.01))\n",
    "print('End2end test calibration error when step size is 0.1: ', metrics.calibration_error(pcdf, step = 0.1))"
   ]
  },
  {
   "cell_type": "code",
   "execution_count": null,
   "metadata": {},
   "outputs": [],
   "source": []
  }
 ],
 "metadata": {
  "kernelspec": {
   "display_name": "Python 3",
   "language": "python",
   "name": "python3"
  },
  "language_info": {
   "codemirror_mode": {
    "name": "ipython",
    "version": 3
   },
   "file_extension": ".py",
   "mimetype": "text/x-python",
   "name": "python",
   "nbconvert_exporter": "python",
   "pygments_lexer": "ipython3",
   "version": "3.7.4"
  }
 },
 "nbformat": 4,
 "nbformat_minor": 2
}
